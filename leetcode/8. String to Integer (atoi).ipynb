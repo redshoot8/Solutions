{
 "cells": [
  {
   "metadata": {},
   "cell_type": "markdown",
   "source": [
    "# 8. String to Integer (atoi)\n",
    "\n",
    "Implement the myAtoi(string s) function, which converts a string to a 32-bit signed integer.\n",
    "\n",
    "The algorithm for myAtoi(string s) is as follows:\n",
    "\n",
    "- Whitespace: Ignore any leading whitespace (\" \").\n",
    "\n",
    "- Signedness: Determine the sign by checking if the next character is '-' or '+', assuming positivity is neither present.\n",
    "\n",
    "- Conversion: Read the integer by skipping leading zeros until a non-digit character is encountered or the end of the string is reached. If no digits were read, then the result is 0.\n",
    "\n",
    "- Rounding: If the integer is out of the 32-bit signed integer range [-2^31, 2^31 - 1], then round the integer to remain in the range. Specifically, integers less than -2^31 should be rounded to -2^31, and integers greater than 2^31 - 1 should be rounded to 2^31 - 1.\n",
    "\n",
    "## Example:\n",
    "- Input: s = \"42\"\n",
    "- Output: 42"
   ],
   "id": "5b4b880ab7049f54"
  },
  {
   "metadata": {
    "ExecuteTime": {
     "end_time": "2024-07-29T17:26:49.256791Z",
     "start_time": "2024-07-29T17:26:49.244847Z"
    }
   },
   "cell_type": "code",
   "source": [
    "class Solution:\n",
    "    def myAtoi(self, s: str) -> int:\n",
    "        new_string = ''\n",
    "        without_spaces = s.strip()\n",
    "        \n",
    "        for i in range(len(without_spaces)):\n",
    "            if i == 0 and without_spaces[i] in '+-':\n",
    "                new_string += without_spaces[i]\n",
    "            elif without_spaces[i].isdigit():\n",
    "                new_string += without_spaces[i]\n",
    "            else:\n",
    "                break\n",
    "        \n",
    "        if new_string in ' +-':\n",
    "            return 0\n",
    "        \n",
    "        integer = int(new_string)\n",
    "        \n",
    "        if integer > 2**31 - 1:\n",
    "            return 2**31 - 1\n",
    "        elif integer < -2**31:\n",
    "            return -2**31\n",
    "        return int(new_string)\n",
    "        \n",
    "        \n",
    "sol = Solution()\n",
    "print(sol.myAtoi('-00001337c0d3'))"
   ],
   "id": "initial_id",
   "outputs": [
    {
     "name": "stdout",
     "output_type": "stream",
     "text": [
      "-1337\n"
     ]
    }
   ],
   "execution_count": 5
  }
 ],
 "metadata": {
  "kernelspec": {
   "display_name": "Python 3",
   "language": "python",
   "name": "python3"
  },
  "language_info": {
   "codemirror_mode": {
    "name": "ipython",
    "version": 2
   },
   "file_extension": ".py",
   "mimetype": "text/x-python",
   "name": "python",
   "nbconvert_exporter": "python",
   "pygments_lexer": "ipython2",
   "version": "2.7.6"
  }
 },
 "nbformat": 4,
 "nbformat_minor": 5
}
