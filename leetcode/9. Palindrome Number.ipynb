{
 "cells": [
  {
   "metadata": {},
   "cell_type": "markdown",
   "source": [
    "# 9. Palindrome Number\n",
    "\n",
    "Given an integer x, return true if x is a palindrome, and false otherwise.\n",
    "\n",
    "## Example:\n",
    "- Input: x = -121\n",
    "- Output: false"
   ],
   "id": "922d7b0678c9e321"
  },
  {
   "metadata": {
    "ExecuteTime": {
     "end_time": "2024-07-29T17:37:31.224137Z",
     "start_time": "2024-07-29T17:37:31.217501Z"
    }
   },
   "cell_type": "code",
   "source": [
    "class Solution:\n",
    "    def isPalindrome(self, x: int) -> bool:\n",
    "        string = str(x)\n",
    "        if string[::-1] != string:\n",
    "            return False\n",
    "        return True\n",
    "\n",
    "\n",
    "sol = Solution()\n",
    "print(sol.isPalindrome(-121))"
   ],
   "id": "initial_id",
   "outputs": [
    {
     "name": "stdout",
     "output_type": "stream",
     "text": [
      "False\n"
     ]
    }
   ],
   "execution_count": 2
  }
 ],
 "metadata": {
  "kernelspec": {
   "display_name": "Python 3",
   "language": "python",
   "name": "python3"
  },
  "language_info": {
   "codemirror_mode": {
    "name": "ipython",
    "version": 2
   },
   "file_extension": ".py",
   "mimetype": "text/x-python",
   "name": "python",
   "nbconvert_exporter": "python",
   "pygments_lexer": "ipython2",
   "version": "2.7.6"
  }
 },
 "nbformat": 4,
 "nbformat_minor": 5
}
