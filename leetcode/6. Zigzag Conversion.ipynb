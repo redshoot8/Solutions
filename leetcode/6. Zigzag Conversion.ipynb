{
 "cells": [
  {
   "metadata": {},
   "cell_type": "markdown",
   "source": [
    "# 6. Zigzag Conversion\n",
    "The string \"PAYPALISHIRING\" is written in a zigzag pattern on a given number of rows like this: (you may want to display this pattern in a fixed font for better legibility)\n",
    "```\n",
    "P   A   H   N\n",
    "A P L S I I G\n",
    "Y   I   R\n",
    "```\n",
    "And then read line by line: \"PAHNAPLSIIGYIR\"\n",
    "Write the code that will take a string and make this conversion given a number of rows:\n",
    "string convert(string s, int numRows);\n",
    "## Example:\n",
    "- Input: s = \"PAYPALISHIRING\", numRows = 3\n",
    "- Output: \"PAHNAPLSIIGYIR\""
   ],
   "id": "a2a4372d309f850d"
  },
  {
   "metadata": {
    "ExecuteTime": {
     "end_time": "2024-07-18T11:13:35.170843Z",
     "start_time": "2024-07-18T11:13:35.159832Z"
    }
   },
   "cell_type": "code",
   "source": [
    "class Solution:\n",
    "    def convert(self, s: str, numRows: int) -> str:\n",
    "        if numRows == 1:\n",
    "            return s\n",
    "        elif numRows == 2:\n",
    "            new_string = ''\n",
    "            for i in range(0, len(s), 2):\n",
    "                new_string += s[i]\n",
    "            for i in range(1, len(s), 2):\n",
    "                new_string += s[i]\n",
    "            return new_string\n",
    "\n",
    "        array = [[]]\n",
    "        counter = 0\n",
    "        down = True\n",
    "        index = numRows - 2\n",
    "        while counter < len(s):\n",
    "            if down:\n",
    "                array[-1].append(s[counter])\n",
    "                if len(array[-1]) % numRows == 0:\n",
    "                    down = False\n",
    "                    array.append([])\n",
    "            else:\n",
    "                array[-1] = ['' if i != index else s[counter] for i in range(numRows)]\n",
    "                array.append([])\n",
    "                if index == 1:\n",
    "                    down = True\n",
    "                    index = numRows - 2\n",
    "                else:\n",
    "                    index -= 1\n",
    "            counter += 1\n",
    "            \n",
    "        while len(array[-1]) < numRows:\n",
    "            array[-1].append('')\n",
    "        \n",
    "        new_string = ''\n",
    "        for i in range(numRows):\n",
    "            for j in range(len(array)):\n",
    "                new_string += array[j][i]\n",
    "        \n",
    "        return new_string\n",
    "\n",
    "\n",
    "sol = Solution()\n",
    "print(sol.convert('PAYPALISHIRING', 4))  # PINALSIGYAHRPI"
   ],
   "id": "initial_id",
   "outputs": [
    {
     "name": "stdout",
     "output_type": "stream",
     "text": [
      "PINALIGYHPSI\n"
     ]
    }
   ],
   "execution_count": 19
  }
 ],
 "metadata": {
  "kernelspec": {
   "display_name": "Python 3",
   "language": "python",
   "name": "python3"
  },
  "language_info": {
   "codemirror_mode": {
    "name": "ipython",
    "version": 2
   },
   "file_extension": ".py",
   "mimetype": "text/x-python",
   "name": "python",
   "nbconvert_exporter": "python",
   "pygments_lexer": "ipython2",
   "version": "2.7.6"
  }
 },
 "nbformat": 4,
 "nbformat_minor": 5
}
