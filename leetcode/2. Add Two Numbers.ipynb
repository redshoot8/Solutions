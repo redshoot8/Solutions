{
 "cells": [
  {
   "metadata": {},
   "cell_type": "markdown",
   "source": [
    "# 2. Add Two Numbers\n",
    "You are given two non-empty linked lists representing two non-negative integers. The digits are stored in reverse order, and each of their nodes contains a single digit. Add the two numbers and return the sum as a linked list.\n",
    "You may assume the two numbers do not contain any leading zero, except the number 0 itself.\n",
    "## Example:\n",
    "- Input: l1 = [2,4,3], l2 = [5,6,4]\n",
    "- Output: [7,0,8]\n",
    "- Explanation: 342 + 465 = 807."
   ],
   "id": "a809857c26b280a7"
  },
  {
   "metadata": {
    "ExecuteTime": {
     "end_time": "2024-06-17T06:25:14.722824Z",
     "start_time": "2024-06-17T06:25:14.713475Z"
    }
   },
   "cell_type": "code",
   "source": [
    "from typing import Optional\n",
    "\n",
    "\n",
    "class ListNode:\n",
    "    def __init__(self, val=0, next=None):\n",
    "        self.val = val\n",
    "        self.next = next\n",
    "\n",
    "\n",
    "class Solution:\n",
    "    @staticmethod\n",
    "    def to_str_num(linked_list: ListNode) -> str:\n",
    "        if linked_list.next:\n",
    "            return Solution.to_str_num(linked_list.next) + str(linked_list.val)\n",
    "        return str(linked_list.val)\n",
    "\n",
    "    @staticmethod\n",
    "    def from_str_num(num: str):\n",
    "        if len(num) > 1:\n",
    "            return ListNode(int(num[-1]), Solution.from_str_num(num[:-1]))\n",
    "        return ListNode(int(num))\n",
    "\n",
    "    def addTwoNumbers(self, l1: Optional[ListNode], l2: Optional[ListNode]) -> Optional[ListNode]:\n",
    "        return Solution.from_str_num(str(int(Solution.to_str_num(l1)) + int(Solution.to_str_num(l2))))\n"
   ],
   "id": "initial_id",
   "outputs": [],
   "execution_count": 1
  }
 ],
 "metadata": {
  "kernelspec": {
   "display_name": "Python 3",
   "language": "python",
   "name": "python3"
  },
  "language_info": {
   "codemirror_mode": {
    "name": "ipython",
    "version": 2
   },
   "file_extension": ".py",
   "mimetype": "text/x-python",
   "name": "python",
   "nbconvert_exporter": "python",
   "pygments_lexer": "ipython2",
   "version": "2.7.6"
  }
 },
 "nbformat": 4,
 "nbformat_minor": 5
}
