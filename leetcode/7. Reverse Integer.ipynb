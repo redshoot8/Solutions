{
 "cells": [
  {
   "metadata": {},
   "cell_type": "markdown",
   "source": [
    "# 7. Reverse Integer\n",
    "\n",
    "Given a signed 32-bit integer x, return x with its digits reversed. If reversing x causes the value to go outside the signed 32-bit integer range [-231, 231 - 1], then return 0.\n",
    "Assume the environment does not allow you to store 64-bit integers (signed or unsigned).\n",
    "\n",
    "## Example:\n",
    "- Input: x = 123\n",
    "- Output: 321"
   ],
   "id": "ffc241f3b9d096f2"
  },
  {
   "metadata": {
    "ExecuteTime": {
     "end_time": "2024-06-18T17:42:20.593647Z",
     "start_time": "2024-06-18T17:42:20.588346Z"
    }
   },
   "cell_type": "code",
   "source": [
    "class Solution:\n",
    "    def reverse(self, x: int) -> int:\n",
    "        sign = ''\n",
    "        if x < 0:\n",
    "            sign = '-'\n",
    "        x = str(abs(x))[::-1]\n",
    "        if int(x) > 2 ** 31 - 1:\n",
    "            return 0\n",
    "        return int(sign + x)"
   ],
   "id": "initial_id",
   "outputs": [],
   "execution_count": 9
  }
 ],
 "metadata": {
  "kernelspec": {
   "display_name": "Python 3",
   "language": "python",
   "name": "python3"
  },
  "language_info": {
   "codemirror_mode": {
    "name": "ipython",
    "version": 2
   },
   "file_extension": ".py",
   "mimetype": "text/x-python",
   "name": "python",
   "nbconvert_exporter": "python",
   "pygments_lexer": "ipython2",
   "version": "2.7.6"
  }
 },
 "nbformat": 4,
 "nbformat_minor": 5
}
