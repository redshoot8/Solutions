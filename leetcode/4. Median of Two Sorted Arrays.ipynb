{
 "cells": [
  {
   "metadata": {},
   "cell_type": "markdown",
   "source": [
    "# 4. Median of Two Sorted Arrays\n",
    "Given two sorted arrays nums1 and nums2 of size m and n respectively, return the median of the two sorted arrays.\n",
    "The overall run time complexity should be O(log (m+n)).\n",
    "## Example:\n",
    "- Input: nums1 = [1,3], nums2 = [2]\n",
    "- Output: 2.00000\n",
    "- Explanation: merged array = [1,2,3] and median is 2."
   ],
   "id": "686fe332d93744b8"
  },
  {
   "metadata": {
    "ExecuteTime": {
     "end_time": "2024-06-17T07:12:24.466779Z",
     "start_time": "2024-06-17T07:12:24.461540Z"
    }
   },
   "cell_type": "code",
   "source": [
    "from typing import List\n",
    "\n",
    "\n",
    "class Solution:\n",
    "    def findMedianSortedArrays(self, nums1: List[int], nums2: List[int]) -> float:\n",
    "        merged_list = list(sorted(nums1 + nums2))\n",
    "        if len(merged_list) % 2 != 0:\n",
    "            return merged_list[len(merged_list) // 2]\n",
    "        return (merged_list[len(merged_list) // 2 - 1] + merged_list[len(merged_list) // 2]) / 2"
   ],
   "id": "initial_id",
   "outputs": [],
   "execution_count": 5
  }
 ],
 "metadata": {
  "kernelspec": {
   "display_name": "Python 3",
   "language": "python",
   "name": "python3"
  },
  "language_info": {
   "codemirror_mode": {
    "name": "ipython",
    "version": 2
   },
   "file_extension": ".py",
   "mimetype": "text/x-python",
   "name": "python",
   "nbconvert_exporter": "python",
   "pygments_lexer": "ipython2",
   "version": "2.7.6"
  }
 },
 "nbformat": 4,
 "nbformat_minor": 5
}
