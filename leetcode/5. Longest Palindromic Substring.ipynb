{
 "cells": [
  {
   "metadata": {},
   "cell_type": "markdown",
   "source": [
    "# 5. Longest Palindromic Substring\n",
    "Given a string s, return the longest palindromic substring in s.\n",
    "# Example:\n",
    "- Input: s = \"babad\"\n",
    "- Output: \"bab\"\n",
    "- Explanation: \"aba\" is also a valid answer."
   ],
   "id": "1e3348943f699336"
  },
  {
   "metadata": {
    "ExecuteTime": {
     "end_time": "2024-06-17T07:35:44.086068Z",
     "start_time": "2024-06-17T07:35:44.080588Z"
    }
   },
   "cell_type": "code",
   "source": [
    "# Super non-optimized\n",
    "class Solution:\n",
    "    def longestPalindrome(self, s: str) -> str:\n",
    "        max_palindrome = ''    \n",
    "        for i in range(len(s)):\n",
    "            for j in range(i, len(s) + 1):\n",
    "                if self.isPalindrome(s[i:j]) and len(s[i:j]) > len(max_palindrome):\n",
    "                    max_palindrome = s[i:j]\n",
    "        return max_palindrome\n",
    "    \n",
    "    def isPalindrome(self, s: str) -> bool:\n",
    "        if s == s[::-1]:\n",
    "            return True\n",
    "        return False"
   ],
   "id": "initial_id",
   "outputs": [
    {
     "name": "stdout",
     "output_type": "stream",
     "text": [
      "a\n"
     ]
    }
   ],
   "execution_count": 39
  }
 ],
 "metadata": {
  "kernelspec": {
   "display_name": "Python 3",
   "language": "python",
   "name": "python3"
  },
  "language_info": {
   "codemirror_mode": {
    "name": "ipython",
    "version": 2
   },
   "file_extension": ".py",
   "mimetype": "text/x-python",
   "name": "python",
   "nbconvert_exporter": "python",
   "pygments_lexer": "ipython2",
   "version": "2.7.6"
  }
 },
 "nbformat": 4,
 "nbformat_minor": 5
}
