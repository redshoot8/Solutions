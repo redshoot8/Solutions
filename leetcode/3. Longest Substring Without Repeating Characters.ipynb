{
 "cells": [
  {
   "metadata": {},
   "cell_type": "markdown",
   "source": [
    "# 3. Longest Substring Without Repeating Characters\n",
    "Given a string s, find the length of the longest substring without repeating characters.\n",
    "## Example:\n",
    "- Input: s = \"abcabcbb\"\n",
    "- Output: 3\n",
    "- Explanation: The answer is \"abc\", with the length of 3."
   ],
   "id": "3535b2a839c60c59"
  },
  {
   "metadata": {
    "ExecuteTime": {
     "end_time": "2024-06-17T07:00:21.488862Z",
     "start_time": "2024-06-17T07:00:21.484860Z"
    }
   },
   "cell_type": "code",
   "source": [
    "class Solution:\n",
    "    def lengthOfLongestSubstring(self, s: str) -> int:\n",
    "        max_length = 0\n",
    "        cur_vocab = []\n",
    "        for char in s:\n",
    "            if char in cur_vocab:\n",
    "                max_length = max(max_length, len(cur_vocab))\n",
    "                cur_vocab = cur_vocab[cur_vocab.index(char) + 1:]\n",
    "            cur_vocab.append(char)\n",
    "        max_length = max(max_length, len(cur_vocab))\n",
    "        return max_length"
   ],
   "id": "initial_id",
   "outputs": [],
   "execution_count": 21
  }
 ],
 "metadata": {
  "kernelspec": {
   "display_name": "Python 3",
   "language": "python",
   "name": "python3"
  },
  "language_info": {
   "codemirror_mode": {
    "name": "ipython",
    "version": 2
   },
   "file_extension": ".py",
   "mimetype": "text/x-python",
   "name": "python",
   "nbconvert_exporter": "python",
   "pygments_lexer": "ipython2",
   "version": "2.7.6"
  }
 },
 "nbformat": 4,
 "nbformat_minor": 5
}
