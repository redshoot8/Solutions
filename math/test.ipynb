{
 "cells": [
  {
   "metadata": {},
   "cell_type": "markdown",
   "source": "",
   "id": "8a4714b708a25a3a"
  },
  {
   "cell_type": "code",
   "id": "initial_id",
   "metadata": {
    "collapsed": true,
    "ExecuteTime": {
     "end_time": "2024-09-06T08:42:03.581951Z",
     "start_time": "2024-09-06T08:42:03.515619Z"
    }
   },
   "source": [
    "import sympy as sp\n",
    "\n",
    "x = sp.Symbol('x')\n",
    "y = sp.Symbol('y')\n",
    "expr = sp.integrate(x + y)\n",
    "expr"
   ],
   "outputs": [
    {
     "data": {
      "text/plain": [
       "(-log(sin(y) - 1)/2 + log(sin(y) + 1)/2)*(log(cos(x) - 1)/2 - log(cos(x) + 1)/2)"
      ],
      "text/latex": "$\\displaystyle \\left(- \\frac{\\log{\\left(\\sin{\\left(y \\right)} - 1 \\right)}}{2} + \\frac{\\log{\\left(\\sin{\\left(y \\right)} + 1 \\right)}}{2}\\right) \\left(\\frac{\\log{\\left(\\cos{\\left(x \\right)} - 1 \\right)}}{2} - \\frac{\\log{\\left(\\cos{\\left(x \\right)} + 1 \\right)}}{2}\\right)$"
     },
     "execution_count": 2,
     "metadata": {},
     "output_type": "execute_result"
    }
   ],
   "execution_count": 2
  }
 ],
 "metadata": {
  "kernelspec": {
   "display_name": "Python 3",
   "language": "python",
   "name": "python3"
  },
  "language_info": {
   "codemirror_mode": {
    "name": "ipython",
    "version": 2
   },
   "file_extension": ".py",
   "mimetype": "text/x-python",
   "name": "python",
   "nbconvert_exporter": "python",
   "pygments_lexer": "ipython2",
   "version": "2.7.6"
  }
 },
 "nbformat": 4,
 "nbformat_minor": 5
}
