{
  "cells": [
    {
      "metadata": {
        "id": "9e663d5937028109"
      },
      "cell_type": "markdown",
      "source": [
        "# Dog Breed Convolutional Classificator with TensorFlow\n",
        "\n",
        "## Подключение GoogleDrive (Для Google Colab)"
      ],
      "id": "9e663d5937028109"
    },
    {
      "metadata": {
        "id": "2dea3f89cc597919",
        "outputId": "db38b1e6-afd5-4ea7-c334-eaca6ad61e05",
        "colab": {
          "base_uri": "https://localhost:8080/",
          "height": 36
        }
      },
      "cell_type": "code",
      "outputs": [
        {
          "output_type": "execute_result",
          "data": {
            "text/plain": [
              "'/device:GPU:0'"
            ],
            "application/vnd.google.colaboratory.intrinsic+json": {
              "type": "string"
            }
          },
          "metadata": {},
          "execution_count": 3
        }
      ],
      "execution_count": 3,
      "source": [
        "from google.colab import drive\n",
        "import shutil\n",
        "import zipfile\n",
        "import os\n",
        "import pathlib\n",
        "from PIL import Image\n",
        "import tensorflow as tf\n",
        "import numpy as np\n",
        "from tensorflow import keras\n",
        "from matplotlib import pyplot as plt\n",
        "\n",
        "tf.test.gpu_device_name()"
      ],
      "id": "2dea3f89cc597919"
    },
    {
      "metadata": {
        "id": "58d1fe76bea0aab8"
      },
      "cell_type": "markdown",
      "source": [
        "## Подключение GoogleDrive (Для Google Colab)"
      ],
      "id": "58d1fe76bea0aab8"
    },
    {
      "metadata": {
        "id": "a8fd6fe5eabab721",
        "outputId": "7afa839d-1a40-4d69-8ecd-d0eb1d267a73",
        "colab": {
          "base_uri": "https://localhost:8080/"
        }
      },
      "cell_type": "code",
      "outputs": [
        {
          "output_type": "stream",
          "name": "stdout",
          "text": [
            "Mounted at /content/drive\n"
          ]
        }
      ],
      "execution_count": 4,
      "source": [
        "drive.mount('/content/drive')"
      ],
      "id": "a8fd6fe5eabab721"
    },
    {
      "metadata": {
        "id": "837148dccf77f003"
      },
      "cell_type": "markdown",
      "source": [
        "## Загрузка набора данных из GoogleDrive"
      ],
      "id": "837148dccf77f003"
    },
    {
      "metadata": {
        "id": "50b11c48f8c79b5c",
        "outputId": "fb7f67be-7800-49c7-fa35-2677e21fd036",
        "colab": {
          "base_uri": "https://localhost:8080/"
        }
      },
      "cell_type": "code",
      "outputs": [
        {
          "output_type": "stream",
          "name": "stdout",
          "text": [
            "['annotations', 'images']\n"
          ]
        }
      ],
      "execution_count": 5,
      "source": [
        "zip_file_path = '/content/drive/MyDrive/Datasets/StanfordDogs.zip'\n",
        "shutil.copy(zip_file_path, '/content/')\n",
        "\n",
        "unzip_dir = '/content/StanfordDogs/'\n",
        "with zipfile.ZipFile('/content/StanfordDogs.zip', 'r') as zip_ref:\n",
        "    zip_ref.extractall(unzip_dir)\n",
        "\n",
        "print(os.listdir(unzip_dir))"
      ],
      "id": "50b11c48f8c79b5c"
    },
    {
      "metadata": {
        "id": "8c205c773aae3650"
      },
      "cell_type": "markdown",
      "source": [
        "## Валидация данных"
      ],
      "id": "8c205c773aae3650"
    },
    {
      "metadata": {
        "id": "10285e4d7c54f86e"
      },
      "cell_type": "code",
      "outputs": [],
      "execution_count": 6,
      "source": [
        "def check_images(directory):\n",
        "    for root, dirs, files in os.walk(directory):\n",
        "        for file in files:\n",
        "            if file.endswith('.jpg'):\n",
        "                filepath = os.path.join(root, file)\n",
        "                try:\n",
        "                    img_raw = tf.io.read_file(filepath)\n",
        "                    img = tf.io.decode_image(img_raw, channels=3)\n",
        "                    img_jpeg = tf.io.encode_jpeg(tf.cast(img, tf.uint8))\n",
        "                except (tf.errors.InvalidArgumentError, ValueError) as e:\n",
        "                    print(f'Ошибка с изображением {filepath}: {e}')\n",
        "                    os.remove(filepath)  # Удаление проблемного изображения\n",
        "\n",
        "\n",
        "check_images(unzip_dir)"
      ],
      "id": "10285e4d7c54f86e"
    },
    {
      "metadata": {
        "id": "db109e2d0343ceee"
      },
      "cell_type": "markdown",
      "source": [
        "## Построение модели\n",
        "\n",
        "Модель будет дообучаться на модели EfficientNetB0, обученной на основе набора данных ImageNet."
      ],
      "id": "db109e2d0343ceee"
    },
    {
      "metadata": {
        "ExecuteTime": {
          "end_time": "2024-09-06T06:52:32.207226Z",
          "start_time": "2024-09-06T06:52:32.102515Z"
        },
        "id": "e3e39a85e2ae7850",
        "outputId": "33ebf69e-fae6-4b2c-d354-191a89b8ddf7",
        "colab": {
          "base_uri": "https://localhost:8080/",
          "height": 404
        }
      },
      "cell_type": "code",
      "source": [
        "base_model = keras.applications.EfficientNetB0(\n",
        "    weights='imagenet',\n",
        "    include_top=False,\n",
        "    input_shape=(224, 224, 3)\n",
        ")\n",
        "\n",
        "base_model.trainable = False\n",
        "\n",
        "data_augmentation = keras.Sequential([\n",
        "    keras.layers.RandomFlip('horizontal'),\n",
        "    keras.layers.RandomRotation(0.1),\n",
        "    keras.layers.RandomZoom(0.2),\n",
        "    keras.layers.RandomContrast(0.2)\n",
        "])\n",
        "\n",
        "inputs = keras.Input(shape=(224, 224, 3))\n",
        "x = data_augmentation(inputs)\n",
        "x = base_model(x, training=False)\n",
        "x = keras.layers.GlobalAveragePooling2D()(x)\n",
        "x = keras.layers.Dense(256, activation='relu')(x)\n",
        "x = keras.layers.Dropout(0.5)(x)\n",
        "outputs = keras.layers.Dense(120, activation='softmax')(x)\n",
        "model = keras.Model(inputs, outputs)\n",
        "\n",
        "model.summary()"
      ],
      "id": "e3e39a85e2ae7850",
      "outputs": [
        {
          "output_type": "stream",
          "name": "stdout",
          "text": [
            "Downloading data from https://storage.googleapis.com/keras-applications/efficientnetb0_notop.h5\n",
            "\u001b[1m16705208/16705208\u001b[0m \u001b[32m━━━━━━━━━━━━━━━━━━━━\u001b[0m\u001b[37m\u001b[0m \u001b[1m0s\u001b[0m 0us/step\n"
          ]
        },
        {
          "output_type": "display_data",
          "data": {
            "text/plain": [
              "\u001b[1mModel: \"functional_1\"\u001b[0m\n"
            ],
            "text/html": [
              "<pre style=\"white-space:pre;overflow-x:auto;line-height:normal;font-family:Menlo,'DejaVu Sans Mono',consolas,'Courier New',monospace\"><span style=\"font-weight: bold\">Model: \"functional_1\"</span>\n",
              "</pre>\n"
            ]
          },
          "metadata": {}
        },
        {
          "output_type": "display_data",
          "data": {
            "text/plain": [
              "┏━━━━━━━━━━━━━━━━━━━━━━━━━━━━━━━━━━━━━━┳━━━━━━━━━━━━━━━━━━━━━━━━━━━━━┳━━━━━━━━━━━━━━━━━┓\n",
              "┃\u001b[1m \u001b[0m\u001b[1mLayer (type)                        \u001b[0m\u001b[1m \u001b[0m┃\u001b[1m \u001b[0m\u001b[1mOutput Shape               \u001b[0m\u001b[1m \u001b[0m┃\u001b[1m \u001b[0m\u001b[1m        Param #\u001b[0m\u001b[1m \u001b[0m┃\n",
              "┡━━━━━━━━━━━━━━━━━━━━━━━━━━━━━━━━━━━━━━╇━━━━━━━━━━━━━━━━━━━━━━━━━━━━━╇━━━━━━━━━━━━━━━━━┩\n",
              "│ input_layer_1 (\u001b[38;5;33mInputLayer\u001b[0m)           │ (\u001b[38;5;45mNone\u001b[0m, \u001b[38;5;34m224\u001b[0m, \u001b[38;5;34m224\u001b[0m, \u001b[38;5;34m3\u001b[0m)         │               \u001b[38;5;34m0\u001b[0m │\n",
              "├──────────────────────────────────────┼─────────────────────────────┼─────────────────┤\n",
              "│ sequential (\u001b[38;5;33mSequential\u001b[0m)              │ (\u001b[38;5;45mNone\u001b[0m, \u001b[38;5;34m224\u001b[0m, \u001b[38;5;34m224\u001b[0m, \u001b[38;5;34m3\u001b[0m)         │               \u001b[38;5;34m0\u001b[0m │\n",
              "├──────────────────────────────────────┼─────────────────────────────┼─────────────────┤\n",
              "│ efficientnetb0 (\u001b[38;5;33mFunctional\u001b[0m)          │ (\u001b[38;5;45mNone\u001b[0m, \u001b[38;5;34m7\u001b[0m, \u001b[38;5;34m7\u001b[0m, \u001b[38;5;34m1280\u001b[0m)          │       \u001b[38;5;34m4,049,571\u001b[0m │\n",
              "├──────────────────────────────────────┼─────────────────────────────┼─────────────────┤\n",
              "│ global_average_pooling2d             │ (\u001b[38;5;45mNone\u001b[0m, \u001b[38;5;34m1280\u001b[0m)                │               \u001b[38;5;34m0\u001b[0m │\n",
              "│ (\u001b[38;5;33mGlobalAveragePooling2D\u001b[0m)             │                             │                 │\n",
              "├──────────────────────────────────────┼─────────────────────────────┼─────────────────┤\n",
              "│ dense (\u001b[38;5;33mDense\u001b[0m)                        │ (\u001b[38;5;45mNone\u001b[0m, \u001b[38;5;34m256\u001b[0m)                 │         \u001b[38;5;34m327,936\u001b[0m │\n",
              "├──────────────────────────────────────┼─────────────────────────────┼─────────────────┤\n",
              "│ dropout (\u001b[38;5;33mDropout\u001b[0m)                    │ (\u001b[38;5;45mNone\u001b[0m, \u001b[38;5;34m256\u001b[0m)                 │               \u001b[38;5;34m0\u001b[0m │\n",
              "├──────────────────────────────────────┼─────────────────────────────┼─────────────────┤\n",
              "│ dense_1 (\u001b[38;5;33mDense\u001b[0m)                      │ (\u001b[38;5;45mNone\u001b[0m, \u001b[38;5;34m120\u001b[0m)                 │          \u001b[38;5;34m30,840\u001b[0m │\n",
              "└──────────────────────────────────────┴─────────────────────────────┴─────────────────┘\n"
            ],
            "text/html": [
              "<pre style=\"white-space:pre;overflow-x:auto;line-height:normal;font-family:Menlo,'DejaVu Sans Mono',consolas,'Courier New',monospace\">┏━━━━━━━━━━━━━━━━━━━━━━━━━━━━━━━━━━━━━━┳━━━━━━━━━━━━━━━━━━━━━━━━━━━━━┳━━━━━━━━━━━━━━━━━┓\n",
              "┃<span style=\"font-weight: bold\"> Layer (type)                         </span>┃<span style=\"font-weight: bold\"> Output Shape                </span>┃<span style=\"font-weight: bold\">         Param # </span>┃\n",
              "┡━━━━━━━━━━━━━━━━━━━━━━━━━━━━━━━━━━━━━━╇━━━━━━━━━━━━━━━━━━━━━━━━━━━━━╇━━━━━━━━━━━━━━━━━┩\n",
              "│ input_layer_1 (<span style=\"color: #0087ff; text-decoration-color: #0087ff\">InputLayer</span>)           │ (<span style=\"color: #00d7ff; text-decoration-color: #00d7ff\">None</span>, <span style=\"color: #00af00; text-decoration-color: #00af00\">224</span>, <span style=\"color: #00af00; text-decoration-color: #00af00\">224</span>, <span style=\"color: #00af00; text-decoration-color: #00af00\">3</span>)         │               <span style=\"color: #00af00; text-decoration-color: #00af00\">0</span> │\n",
              "├──────────────────────────────────────┼─────────────────────────────┼─────────────────┤\n",
              "│ sequential (<span style=\"color: #0087ff; text-decoration-color: #0087ff\">Sequential</span>)              │ (<span style=\"color: #00d7ff; text-decoration-color: #00d7ff\">None</span>, <span style=\"color: #00af00; text-decoration-color: #00af00\">224</span>, <span style=\"color: #00af00; text-decoration-color: #00af00\">224</span>, <span style=\"color: #00af00; text-decoration-color: #00af00\">3</span>)         │               <span style=\"color: #00af00; text-decoration-color: #00af00\">0</span> │\n",
              "├──────────────────────────────────────┼─────────────────────────────┼─────────────────┤\n",
              "│ efficientnetb0 (<span style=\"color: #0087ff; text-decoration-color: #0087ff\">Functional</span>)          │ (<span style=\"color: #00d7ff; text-decoration-color: #00d7ff\">None</span>, <span style=\"color: #00af00; text-decoration-color: #00af00\">7</span>, <span style=\"color: #00af00; text-decoration-color: #00af00\">7</span>, <span style=\"color: #00af00; text-decoration-color: #00af00\">1280</span>)          │       <span style=\"color: #00af00; text-decoration-color: #00af00\">4,049,571</span> │\n",
              "├──────────────────────────────────────┼─────────────────────────────┼─────────────────┤\n",
              "│ global_average_pooling2d             │ (<span style=\"color: #00d7ff; text-decoration-color: #00d7ff\">None</span>, <span style=\"color: #00af00; text-decoration-color: #00af00\">1280</span>)                │               <span style=\"color: #00af00; text-decoration-color: #00af00\">0</span> │\n",
              "│ (<span style=\"color: #0087ff; text-decoration-color: #0087ff\">GlobalAveragePooling2D</span>)             │                             │                 │\n",
              "├──────────────────────────────────────┼─────────────────────────────┼─────────────────┤\n",
              "│ dense (<span style=\"color: #0087ff; text-decoration-color: #0087ff\">Dense</span>)                        │ (<span style=\"color: #00d7ff; text-decoration-color: #00d7ff\">None</span>, <span style=\"color: #00af00; text-decoration-color: #00af00\">256</span>)                 │         <span style=\"color: #00af00; text-decoration-color: #00af00\">327,936</span> │\n",
              "├──────────────────────────────────────┼─────────────────────────────┼─────────────────┤\n",
              "│ dropout (<span style=\"color: #0087ff; text-decoration-color: #0087ff\">Dropout</span>)                    │ (<span style=\"color: #00d7ff; text-decoration-color: #00d7ff\">None</span>, <span style=\"color: #00af00; text-decoration-color: #00af00\">256</span>)                 │               <span style=\"color: #00af00; text-decoration-color: #00af00\">0</span> │\n",
              "├──────────────────────────────────────┼─────────────────────────────┼─────────────────┤\n",
              "│ dense_1 (<span style=\"color: #0087ff; text-decoration-color: #0087ff\">Dense</span>)                      │ (<span style=\"color: #00d7ff; text-decoration-color: #00d7ff\">None</span>, <span style=\"color: #00af00; text-decoration-color: #00af00\">120</span>)                 │          <span style=\"color: #00af00; text-decoration-color: #00af00\">30,840</span> │\n",
              "└──────────────────────────────────────┴─────────────────────────────┴─────────────────┘\n",
              "</pre>\n"
            ]
          },
          "metadata": {}
        },
        {
          "output_type": "display_data",
          "data": {
            "text/plain": [
              "\u001b[1m Total params: \u001b[0m\u001b[38;5;34m4,408,347\u001b[0m (16.82 MB)\n"
            ],
            "text/html": [
              "<pre style=\"white-space:pre;overflow-x:auto;line-height:normal;font-family:Menlo,'DejaVu Sans Mono',consolas,'Courier New',monospace\"><span style=\"font-weight: bold\"> Total params: </span><span style=\"color: #00af00; text-decoration-color: #00af00\">4,408,347</span> (16.82 MB)\n",
              "</pre>\n"
            ]
          },
          "metadata": {}
        },
        {
          "output_type": "display_data",
          "data": {
            "text/plain": [
              "\u001b[1m Trainable params: \u001b[0m\u001b[38;5;34m358,776\u001b[0m (1.37 MB)\n"
            ],
            "text/html": [
              "<pre style=\"white-space:pre;overflow-x:auto;line-height:normal;font-family:Menlo,'DejaVu Sans Mono',consolas,'Courier New',monospace\"><span style=\"font-weight: bold\"> Trainable params: </span><span style=\"color: #00af00; text-decoration-color: #00af00\">358,776</span> (1.37 MB)\n",
              "</pre>\n"
            ]
          },
          "metadata": {}
        },
        {
          "output_type": "display_data",
          "data": {
            "text/plain": [
              "\u001b[1m Non-trainable params: \u001b[0m\u001b[38;5;34m4,049,571\u001b[0m (15.45 MB)\n"
            ],
            "text/html": [
              "<pre style=\"white-space:pre;overflow-x:auto;line-height:normal;font-family:Menlo,'DejaVu Sans Mono',consolas,'Courier New',monospace\"><span style=\"font-weight: bold\"> Non-trainable params: </span><span style=\"color: #00af00; text-decoration-color: #00af00\">4,049,571</span> (15.45 MB)\n",
              "</pre>\n"
            ]
          },
          "metadata": {}
        }
      ],
      "execution_count": 7
    },
    {
      "metadata": {
        "id": "36728dff532d4e40"
      },
      "cell_type": "markdown",
      "source": [
        "На этапе компиляции используем стандартный оптимизатор `RMSprop`. Так как модель должна однозначно предсказывать несколько классов, используем функцию потерь `categorical_crossentropy`."
      ],
      "id": "36728dff532d4e40"
    },
    {
      "metadata": {
        "id": "2c06ac0d8db17afc"
      },
      "cell_type": "code",
      "outputs": [],
      "execution_count": 8,
      "source": [
        "model.compile(\n",
        "    loss='categorical_crossentropy',\n",
        "    optimizer='rmsprop',\n",
        "    metrics=['accuracy']\n",
        ")"
      ],
      "id": "2c06ac0d8db17afc"
    },
    {
      "metadata": {
        "id": "25e3cf617cca9ea4"
      },
      "cell_type": "markdown",
      "source": [
        "## Загрузка данных"
      ],
      "id": "25e3cf617cca9ea4"
    },
    {
      "metadata": {
        "id": "7f025f7ded35dd2",
        "outputId": "d5c6b489-4b85-4fd7-dd09-7a114714cf65",
        "colab": {
          "base_uri": "https://localhost:8080/"
        }
      },
      "cell_type": "code",
      "outputs": [
        {
          "output_type": "stream",
          "name": "stdout",
          "text": [
            "Found 20580 files belonging to 120 classes.\n",
            "Using 16464 files for training.\n",
            "Found 20580 files belonging to 120 classes.\n",
            "Using 4116 files for validation.\n"
          ]
        }
      ],
      "execution_count": 9,
      "source": [
        "train_dataset = keras.utils.image_dataset_from_directory(\n",
        "    '/content/StanfordDogs/images/Images',\n",
        "    image_size=(224, 224),\n",
        "    batch_size=32,\n",
        "    validation_split=0.2,\n",
        "    subset='training',\n",
        "    seed=1488,\n",
        "    label_mode='categorical'\n",
        ")\n",
        "validation_dataset = keras.utils.image_dataset_from_directory(\n",
        "    '/content/StanfordDogs/images/Images',\n",
        "    image_size=(224, 224),\n",
        "    batch_size=32,\n",
        "    validation_split=0.2,\n",
        "    subset='validation',\n",
        "    seed=1488,\n",
        "    label_mode='categorical'\n",
        ")\n",
        "test_dataset = validation_dataset.take(50)\n",
        "val_ds = validation_dataset.skip(50)"
      ],
      "id": "7f025f7ded35dd2"
    },
    {
      "metadata": {
        "id": "8d55397ffe37ce46"
      },
      "cell_type": "markdown",
      "source": [
        "## Обучение модели с выделением признаков\n",
        "\n",
        "Создадим обратный вызов, чтобы автоматически остановить обучение и сохранить лучший вариант модели. Далее обучим модель на ранее подготовленных данных."
      ],
      "id": "8d55397ffe37ce46"
    },
    {
      "metadata": {
        "id": "f161174faec4f93",
        "outputId": "9e576630-8432-41ca-d0a2-f8443dbb6d1b",
        "colab": {
          "base_uri": "https://localhost:8080/"
        }
      },
      "cell_type": "code",
      "outputs": [
        {
          "output_type": "stream",
          "name": "stdout",
          "text": [
            "Epoch 1/70\n",
            "\u001b[1m515/515\u001b[0m \u001b[32m━━━━━━━━━━━━━━━━━━━━\u001b[0m\u001b[37m\u001b[0m \u001b[1m69s\u001b[0m 106ms/step - accuracy: 0.3122 - loss: 2.9505 - val_accuracy: 0.7556 - val_loss: 0.7954\n",
            "Epoch 2/70\n",
            "\u001b[1m515/515\u001b[0m \u001b[32m━━━━━━━━━━━━━━━━━━━━\u001b[0m\u001b[37m\u001b[0m \u001b[1m74s\u001b[0m 98ms/step - accuracy: 0.5967 - loss: 1.3997 - val_accuracy: 0.7748 - val_loss: 0.7123\n",
            "Epoch 3/70\n",
            "\u001b[1m515/515\u001b[0m \u001b[32m━━━━━━━━━━━━━━━━━━━━\u001b[0m\u001b[37m\u001b[0m \u001b[1m81s\u001b[0m 96ms/step - accuracy: 0.6348 - loss: 1.2638 - val_accuracy: 0.7847 - val_loss: 0.6891\n",
            "Epoch 4/70\n",
            "\u001b[1m515/515\u001b[0m \u001b[32m━━━━━━━━━━━━━━━━━━━━\u001b[0m\u001b[37m\u001b[0m \u001b[1m83s\u001b[0m 99ms/step - accuracy: 0.6591 - loss: 1.1875 - val_accuracy: 0.7860 - val_loss: 0.6750\n",
            "Epoch 5/70\n",
            "\u001b[1m515/515\u001b[0m \u001b[32m━━━━━━━━━━━━━━━━━━━━\u001b[0m\u001b[37m\u001b[0m \u001b[1m80s\u001b[0m 96ms/step - accuracy: 0.6743 - loss: 1.1329 - val_accuracy: 0.7840 - val_loss: 0.6974\n",
            "Epoch 6/70\n",
            "\u001b[1m515/515\u001b[0m \u001b[32m━━━━━━━━━━━━━━━━━━━━\u001b[0m\u001b[37m\u001b[0m \u001b[1m83s\u001b[0m 98ms/step - accuracy: 0.6833 - loss: 1.1206 - val_accuracy: 0.7935 - val_loss: 0.6986\n",
            "Epoch 7/70\n",
            "\u001b[1m515/515\u001b[0m \u001b[32m━━━━━━━━━━━━━━━━━━━━\u001b[0m\u001b[37m\u001b[0m \u001b[1m82s\u001b[0m 98ms/step - accuracy: 0.6941 - loss: 1.0747 - val_accuracy: 0.7937 - val_loss: 0.7012\n",
            "Epoch 8/70\n",
            "\u001b[1m515/515\u001b[0m \u001b[32m━━━━━━━━━━━━━━━━━━━━\u001b[0m\u001b[37m\u001b[0m \u001b[1m82s\u001b[0m 98ms/step - accuracy: 0.6987 - loss: 1.0605 - val_accuracy: 0.7925 - val_loss: 0.7224\n",
            "Epoch 9/70\n",
            "\u001b[1m515/515\u001b[0m \u001b[32m━━━━━━━━━━━━━━━━━━━━\u001b[0m\u001b[37m\u001b[0m \u001b[1m49s\u001b[0m 96ms/step - accuracy: 0.7065 - loss: 1.0182 - val_accuracy: 0.7906 - val_loss: 0.7323\n",
            "Epoch 10/70\n",
            "\u001b[1m515/515\u001b[0m \u001b[32m━━━━━━━━━━━━━━━━━━━━\u001b[0m\u001b[37m\u001b[0m \u001b[1m51s\u001b[0m 98ms/step - accuracy: 0.7094 - loss: 1.0265 - val_accuracy: 0.7964 - val_loss: 0.7381\n",
            "Epoch 11/70\n",
            "\u001b[1m515/515\u001b[0m \u001b[32m━━━━━━━━━━━━━━━━━━━━\u001b[0m\u001b[37m\u001b[0m \u001b[1m82s\u001b[0m 98ms/step - accuracy: 0.7120 - loss: 1.0138 - val_accuracy: 0.7971 - val_loss: 0.7467\n",
            "Epoch 12/70\n",
            "\u001b[1m515/515\u001b[0m \u001b[32m━━━━━━━━━━━━━━━━━━━━\u001b[0m\u001b[37m\u001b[0m \u001b[1m50s\u001b[0m 97ms/step - accuracy: 0.7219 - loss: 0.9791 - val_accuracy: 0.7988 - val_loss: 0.7726\n",
            "Epoch 13/70\n",
            "\u001b[1m515/515\u001b[0m \u001b[32m━━━━━━━━━━━━━━━━━━━━\u001b[0m\u001b[37m\u001b[0m \u001b[1m81s\u001b[0m 95ms/step - accuracy: 0.7216 - loss: 0.9743 - val_accuracy: 0.7952 - val_loss: 0.7847\n",
            "Epoch 14/70\n",
            "\u001b[1m515/515\u001b[0m \u001b[32m━━━━━━━━━━━━━━━━━━━━\u001b[0m\u001b[37m\u001b[0m \u001b[1m83s\u001b[0m 98ms/step - accuracy: 0.7177 - loss: 1.0026 - val_accuracy: 0.7945 - val_loss: 0.8068\n",
            "Epoch 15/70\n",
            "\u001b[1m515/515\u001b[0m \u001b[32m━━━━━━━━━━━━━━━━━━━━\u001b[0m\u001b[37m\u001b[0m \u001b[1m81s\u001b[0m 96ms/step - accuracy: 0.7269 - loss: 0.9722 - val_accuracy: 0.7952 - val_loss: 0.8085\n",
            "Epoch 16/70\n",
            "\u001b[1m515/515\u001b[0m \u001b[32m━━━━━━━━━━━━━━━━━━━━\u001b[0m\u001b[37m\u001b[0m \u001b[1m82s\u001b[0m 96ms/step - accuracy: 0.7317 - loss: 0.9551 - val_accuracy: 0.7949 - val_loss: 0.8447\n",
            "Epoch 17/70\n",
            "\u001b[1m515/515\u001b[0m \u001b[32m━━━━━━━━━━━━━━━━━━━━\u001b[0m\u001b[37m\u001b[0m \u001b[1m83s\u001b[0m 98ms/step - accuracy: 0.7355 - loss: 0.9330 - val_accuracy: 0.7935 - val_loss: 0.8377\n",
            "Epoch 18/70\n",
            "\u001b[1m515/515\u001b[0m \u001b[32m━━━━━━━━━━━━━━━━━━━━\u001b[0m\u001b[37m\u001b[0m \u001b[1m83s\u001b[0m 99ms/step - accuracy: 0.7346 - loss: 0.9367 - val_accuracy: 0.7966 - val_loss: 0.8552\n",
            "Epoch 19/70\n",
            "\u001b[1m515/515\u001b[0m \u001b[32m━━━━━━━━━━━━━━━━━━━━\u001b[0m\u001b[37m\u001b[0m \u001b[1m80s\u001b[0m 95ms/step - accuracy: 0.7415 - loss: 0.9255 - val_accuracy: 0.7979 - val_loss: 0.8446\n",
            "Epoch 20/70\n",
            "\u001b[1m515/515\u001b[0m \u001b[32m━━━━━━━━━━━━━━━━━━━━\u001b[0m\u001b[37m\u001b[0m \u001b[1m83s\u001b[0m 97ms/step - accuracy: 0.7511 - loss: 0.9085 - val_accuracy: 0.7979 - val_loss: 0.8793\n",
            "Epoch 21/70\n",
            "\u001b[1m515/515\u001b[0m \u001b[32m━━━━━━━━━━━━━━━━━━━━\u001b[0m\u001b[37m\u001b[0m \u001b[1m49s\u001b[0m 96ms/step - accuracy: 0.7424 - loss: 0.9340 - val_accuracy: 0.7988 - val_loss: 0.8849\n",
            "Epoch 22/70\n",
            "\u001b[1m515/515\u001b[0m \u001b[32m━━━━━━━━━━━━━━━━━━━━\u001b[0m\u001b[37m\u001b[0m \u001b[1m82s\u001b[0m 96ms/step - accuracy: 0.7556 - loss: 0.9013 - val_accuracy: 0.8022 - val_loss: 0.8992\n",
            "Epoch 23/70\n",
            "\u001b[1m515/515\u001b[0m \u001b[32m━━━━━━━━━━━━━━━━━━━━\u001b[0m\u001b[37m\u001b[0m \u001b[1m50s\u001b[0m 96ms/step - accuracy: 0.7406 - loss: 0.9307 - val_accuracy: 0.7991 - val_loss: 0.9162\n",
            "Epoch 24/70\n",
            "\u001b[1m515/515\u001b[0m \u001b[32m━━━━━━━━━━━━━━━━━━━━\u001b[0m\u001b[37m\u001b[0m \u001b[1m49s\u001b[0m 94ms/step - accuracy: 0.7542 - loss: 0.8986 - val_accuracy: 0.7991 - val_loss: 0.9098\n",
            "Epoch 25/70\n",
            "\u001b[1m515/515\u001b[0m \u001b[32m━━━━━━━━━━━━━━━━━━━━\u001b[0m\u001b[37m\u001b[0m \u001b[1m49s\u001b[0m 95ms/step - accuracy: 0.7573 - loss: 0.8965 - val_accuracy: 0.7988 - val_loss: 0.9453\n",
            "Epoch 26/70\n",
            "\u001b[1m515/515\u001b[0m \u001b[32m━━━━━━━━━━━━━━━━━━━━\u001b[0m\u001b[37m\u001b[0m \u001b[1m50s\u001b[0m 96ms/step - accuracy: 0.7495 - loss: 0.9094 - val_accuracy: 0.7974 - val_loss: 0.9314\n",
            "Epoch 27/70\n",
            "\u001b[1m515/515\u001b[0m \u001b[32m━━━━━━━━━━━━━━━━━━━━\u001b[0m\u001b[37m\u001b[0m \u001b[1m82s\u001b[0m 95ms/step - accuracy: 0.7522 - loss: 0.8895 - val_accuracy: 0.8000 - val_loss: 0.9520\n",
            "Epoch 28/70\n",
            "\u001b[1m515/515\u001b[0m \u001b[32m━━━━━━━━━━━━━━━━━━━━\u001b[0m\u001b[37m\u001b[0m \u001b[1m49s\u001b[0m 96ms/step - accuracy: 0.7595 - loss: 0.8673 - val_accuracy: 0.7979 - val_loss: 0.9639\n",
            "Epoch 29/70\n",
            "\u001b[1m515/515\u001b[0m \u001b[32m━━━━━━━━━━━━━━━━━━━━\u001b[0m\u001b[37m\u001b[0m \u001b[1m50s\u001b[0m 97ms/step - accuracy: 0.7573 - loss: 0.8837 - val_accuracy: 0.7971 - val_loss: 0.9606\n",
            "Epoch 30/70\n",
            "\u001b[1m515/515\u001b[0m \u001b[32m━━━━━━━━━━━━━━━━━━━━\u001b[0m\u001b[37m\u001b[0m \u001b[1m81s\u001b[0m 95ms/step - accuracy: 0.7740 - loss: 0.8455 - val_accuracy: 0.7979 - val_loss: 0.9751\n",
            "Epoch 31/70\n",
            "\u001b[1m515/515\u001b[0m \u001b[32m━━━━━━━━━━━━━━━━━━━━\u001b[0m\u001b[37m\u001b[0m \u001b[1m49s\u001b[0m 96ms/step - accuracy: 0.7680 - loss: 0.8743 - val_accuracy: 0.7998 - val_loss: 0.9873\n",
            "Epoch 32/70\n",
            "\u001b[1m515/515\u001b[0m \u001b[32m━━━━━━━━━━━━━━━━━━━━\u001b[0m\u001b[37m\u001b[0m \u001b[1m83s\u001b[0m 98ms/step - accuracy: 0.7594 - loss: 0.8971 - val_accuracy: 0.8042 - val_loss: 0.9949\n",
            "Epoch 33/70\n",
            "\u001b[1m515/515\u001b[0m \u001b[32m━━━━━━━━━━━━━━━━━━━━\u001b[0m\u001b[37m\u001b[0m \u001b[1m49s\u001b[0m 96ms/step - accuracy: 0.7683 - loss: 0.8756 - val_accuracy: 0.7979 - val_loss: 1.0179\n",
            "Epoch 34/70\n",
            "\u001b[1m515/515\u001b[0m \u001b[32m━━━━━━━━━━━━━━━━━━━━\u001b[0m\u001b[37m\u001b[0m \u001b[1m60s\u001b[0m 117ms/step - accuracy: 0.7618 - loss: 0.8703 - val_accuracy: 0.7974 - val_loss: 1.0312\n",
            "Epoch 35/70\n",
            "\u001b[1m515/515\u001b[0m \u001b[32m━━━━━━━━━━━━━━━━━━━━\u001b[0m\u001b[37m\u001b[0m \u001b[1m49s\u001b[0m 96ms/step - accuracy: 0.7649 - loss: 0.8755 - val_accuracy: 0.8022 - val_loss: 1.0124\n",
            "Epoch 36/70\n",
            "\u001b[1m515/515\u001b[0m \u001b[32m━━━━━━━━━━━━━━━━━━━━\u001b[0m\u001b[37m\u001b[0m \u001b[1m83s\u001b[0m 97ms/step - accuracy: 0.7678 - loss: 0.8668 - val_accuracy: 0.8005 - val_loss: 1.0271\n",
            "Epoch 37/70\n",
            "\u001b[1m515/515\u001b[0m \u001b[32m━━━━━━━━━━━━━━━━━━━━\u001b[0m\u001b[37m\u001b[0m \u001b[1m50s\u001b[0m 96ms/step - accuracy: 0.7639 - loss: 0.8814 - val_accuracy: 0.7971 - val_loss: 1.0666\n",
            "Epoch 38/70\n",
            "\u001b[1m515/515\u001b[0m \u001b[32m━━━━━━━━━━━━━━━━━━━━\u001b[0m\u001b[37m\u001b[0m \u001b[1m50s\u001b[0m 96ms/step - accuracy: 0.7772 - loss: 0.8467 - val_accuracy: 0.7940 - val_loss: 1.0870\n",
            "Epoch 39/70\n",
            "\u001b[1m515/515\u001b[0m \u001b[32m━━━━━━━━━━━━━━━━━━━━\u001b[0m\u001b[37m\u001b[0m \u001b[1m83s\u001b[0m 98ms/step - accuracy: 0.7697 - loss: 0.8531 - val_accuracy: 0.7957 - val_loss: 1.0817\n",
            "Epoch 40/70\n",
            "\u001b[1m515/515\u001b[0m \u001b[32m━━━━━━━━━━━━━━━━━━━━\u001b[0m\u001b[37m\u001b[0m \u001b[1m51s\u001b[0m 99ms/step - accuracy: 0.7718 - loss: 0.8601 - val_accuracy: 0.7991 - val_loss: 1.0571\n",
            "Epoch 41/70\n",
            "\u001b[1m515/515\u001b[0m \u001b[32m━━━━━━━━━━━━━━━━━━━━\u001b[0m\u001b[37m\u001b[0m \u001b[1m50s\u001b[0m 96ms/step - accuracy: 0.7716 - loss: 0.8689 - val_accuracy: 0.7993 - val_loss: 1.0993\n",
            "Epoch 42/70\n",
            "\u001b[1m515/515\u001b[0m \u001b[32m━━━━━━━━━━━━━━━━━━━━\u001b[0m\u001b[37m\u001b[0m \u001b[1m83s\u001b[0m 98ms/step - accuracy: 0.7754 - loss: 0.8386 - val_accuracy: 0.7983 - val_loss: 1.0924\n"
          ]
        }
      ],
      "execution_count": 10,
      "source": [
        "callbacks = [\n",
        "    keras.callbacks.ModelCheckpoint(\n",
        "        filepath='/content/dogbreeds.keras',\n",
        "        save_best_only=True,\n",
        "        monitor='val_loss'\n",
        "    ),\n",
        "    keras.callbacks.EarlyStopping(\n",
        "        monitor='val_accuracy',\n",
        "\t\t    patience=10\n",
        "    )\n",
        "]\n",
        "\n",
        "history = model.fit(\n",
        "    train_dataset,\n",
        "    epochs=70,\n",
        "    validation_data=validation_dataset,\n",
        "    callbacks=callbacks\n",
        ")"
      ],
      "id": "f161174faec4f93"
    },
    {
      "metadata": {
        "id": "6e7805311512894c"
      },
      "cell_type": "markdown",
      "source": [
        "## Визуализация обучения с выделением признаков\n",
        "\n",
        "Построим графики изменения потерь и точности в процессе обучения модели."
      ],
      "id": "6e7805311512894c"
    },
    {
      "metadata": {
        "id": "3f774dbed821d70b",
        "outputId": "1f768d27-206f-494c-db84-9a4f05b61d32",
        "colab": {
          "base_uri": "https://localhost:8080/",
          "height": 887
        }
      },
      "cell_type": "code",
      "outputs": [
        {
          "output_type": "display_data",
          "data": {
            "text/plain": [
              "<Figure size 640x480 with 1 Axes>"
            ],
            "image/png": "[encoded data removed]"
          },
          "metadata": {}
        },
        {
          "output_type": "display_data",
          "data": {
            "text/plain": [
              "<Figure size 640x480 with 1 Axes>"
            ],
            "image/png": "[encoded data removed]"
          },
          "metadata": {}
        }
      ],
      "execution_count": null,
      "source": [
        "accuracy = history.history['accuracy']\n",
        "val_accuracy = history.history['val_accuracy']\n",
        "loss = history.history['loss']\n",
        "val_loss = history.history['val_loss']\n",
        "epochs = range(1, len(accuracy) + 1)\n",
        "plt.plot(epochs, accuracy, 'go', label='Точность на этапе обучения')\n",
        "plt.plot(epochs, val_accuracy, 'g', label='Точность на этапе проверки')\n",
        "plt.title('Точность на этапах обучения и проверки')\n",
        "plt.legend()\n",
        "plt.figure()\n",
        "plt.plot(epochs, loss, 'ro', label='Потери на этапе обучения')\n",
        "plt.plot(epochs, val_loss, 'r', label='Потери на этапе проверки')\n",
        "plt.title('Потери на этапах обучения и проверки')\n",
        "plt.legend()\n",
        "plt.show()"
      ],
      "id": "3f774dbed821d70b"
    },
    {
      "metadata": {
        "id": "88ea66b6b09ae624"
      },
      "cell_type": "markdown",
      "source": [
        "## Тестирование модели"
      ],
      "id": "88ea66b6b09ae624"
    },
    {
      "metadata": {
        "id": "e9d4c4e02fc26fb8"
      },
      "cell_type": "code",
      "outputs": [],
      "execution_count": null,
      "source": [
        "test_model = keras.models.load_model('/content/drive/dogbreeds.keras')\n",
        "test_loss, test_acc = test_model.evaluate(test_dataset)\n",
        "print(f'Test accuracy: {test_acc:.3f}')"
      ],
      "id": "e9d4c4e02fc26fb8"
    }
  ],
  "metadata": {
    "kernelspec": {
      "display_name": "Python 3",
      "name": "python3"
    },
    "language_info": {
      "codemirror_mode": {
        "name": "ipython",
        "version": 2
      },
      "file_extension": ".py",
      "mimetype": "text/x-python",
      "name": "python",
      "nbconvert_exporter": "python",
      "pygments_lexer": "ipython2",
      "version": "2.7.6"
    },
    "colab": {
      "provenance": [],
      "gpuType": "T4"
    },
    "accelerator": "GPU"
  },
  "nbformat": 4,
  "nbformat_minor": 5
}