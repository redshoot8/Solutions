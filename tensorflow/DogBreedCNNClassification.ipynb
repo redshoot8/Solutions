{
 "cells": [
  {
   "metadata": {},
   "cell_type": "markdown",
   "source": [
    "# Dog Breed CNN Classification with TensorFlow\n",
    "\n",
    "## Импорт библиотек"
   ],
   "id": "267d2ba78c29c2b4"
  },
  {
   "metadata": {
    "collapsed": true
   },
   "cell_type": "code",
   "outputs": [],
   "execution_count": null,
   "source": [
    "import shutil\n",
    "import zipfile\n",
    "import os\n",
    "\n",
    "from google.colab import drive\n",
    "from PIL import Image\n",
    "import tensorflow as tf\n",
    "import numpy as np\n",
    "from tensorflow import keras\n",
    "from matplotlib import pyplot as plt\n",
    "import pandas as pd\n",
    "import sklearn as skl\n",
    "\n",
    "tf.test.gpu_device_name()"
   ],
   "id": "initial_id"
  },
  {
   "metadata": {},
   "cell_type": "markdown",
   "source": "## Подключение GoogleDrive (Для Google Colab)",
   "id": "16fe271d261acd67"
  },
  {
   "metadata": {},
   "cell_type": "code",
   "outputs": [],
   "execution_count": null,
   "source": "drive.mount('/content/drive')",
   "id": "4b79ca1fc28e46e1"
  },
  {
   "metadata": {},
   "cell_type": "markdown",
   "source": "## Загрузка набора данных из GoogleDrive",
   "id": "9606a706632561b1"
  },
  {
   "metadata": {},
   "cell_type": "code",
   "outputs": [],
   "execution_count": null,
   "source": [
    "zip_file_path = '/content/drive/MyDrive/Datasets/DogBreeds.zip'\n",
    "shutil.copy(zip_file_path, '/content/')\n",
    "\n",
    "unzip_dir = '/content/DogBreeds/'\n",
    "with zipfile.ZipFile('/content/DogBreeds.zip', 'r') as zip_ref:\n",
    "    zip_ref.extractall(unzip_dir)\n",
    "\n",
    "print(os.listdir(unzip_dir))"
   ],
   "id": "a1bff048c9b8c7a2"
  },
  {
   "metadata": {},
   "cell_type": "markdown",
   "source": [
    "## Предпросмотр данных\n",
    "\n",
    "Просмотр csv-файла"
   ],
   "id": "5bff1c1e414662fa"
  },
  {
   "metadata": {},
   "cell_type": "code",
   "outputs": [],
   "execution_count": null,
   "source": [
    "df = pd.read_csv('/content/DogBreeds/labels.csv')\n",
    "df['filepath'] = '/content/DogBreeds/train/' + df['id'] + '.jpg'\n",
    "print(df.head())\n",
    "print(f'В наборе данных {df['breed'].nunique()} классов')"
   ],
   "id": "3a566856addae918"
  },
  {
   "metadata": {},
   "cell_type": "markdown",
   "source": "Оценка количества изображений",
   "id": "7f3e85e059c4860e"
  },
  {
   "metadata": {},
   "cell_type": "code",
   "outputs": [],
   "execution_count": null,
   "source": [
    "plt.figure(figsize=(12, 7))\n",
    "df['breed'].value_counts().plot.bar()\n",
    "plt.title('Число изображений для каждого класса')\n",
    "plt.xlabel('Класс')\n",
    "plt.ylabel('Число')\n",
    "plt.axis('off')\n",
    "plt.show()"
   ],
   "id": "cf7114a9468ceb11"
  },
  {
   "metadata": {},
   "cell_type": "markdown",
   "source": "Предпросмотр случайных изображений",
   "id": "65f3d9eecfcafb1"
  },
  {
   "metadata": {},
   "cell_type": "code",
   "outputs": [],
   "execution_count": null,
   "source": [
    "plt.figure(figsize=(16, 10))\n",
    "for i in range(9):\n",
    "    plt.subplot(3, 3, i + 1)\n",
    "    k = np.random.randint(0, len(df))\n",
    "    img = Image.Image(df.loc[k, 'filepath'])\n",
    "    plt.imshow(img)\n",
    "    plt.title(df.loc[k, 'breed'])\n",
    "    plt.axis('off')\n",
    "    \n",
    "plt.show()"
   ],
   "id": "37f92960f2f1f2c0"
  },
  {
   "metadata": {},
   "cell_type": "markdown",
   "source": "## Загрузка данных",
   "id": "7a844d07dbc116fd"
  },
  {
   "metadata": {
    "jupyter": {
     "is_executing": true
    }
   },
   "cell_type": "code",
   "source": [
    "# Кодирование пород числом\n",
    "LE = skl.preprocessing.LabelEncoder()\n",
    "df['breed'] = LE.fit_transform(df['breed'])\n",
    "\n",
    "features = df['filepath'] \n",
    "target = df['breed'] \n",
    "  \n",
    "x_train, x_val, y_train, y_val = skl.model_selection.train_test_split(features, target, test_size=0.15, random_state=10)\n",
    "\n",
    "\n",
    "def decode_image(filepath, label=None): \n",
    "    image = tf.io.read_file(filepath) \n",
    "    image = tf.image.decode_jpeg(img, channels=3)  # Ensure 3 channels for color images\n",
    "    image = tf.image.resize(image, 128) \n",
    "    image = tf.cast(image, tf.float32) / 255.0 # the pixels will be between [0, 1].\n",
    "    \n",
    "    if label is None: \n",
    "        return image\n",
    "  \n",
    "    label = tf.one_hot(label, depth=120, dtype=tf.float32)\n",
    "    return image, label\n",
    "\n",
    "\n",
    "train_dataset = (\n",
    "    tf.data.Dataset\n",
    "    .from_tensor_slices((x_train, y_train))\n",
    "    .map(decode_image)\n",
    "    .batch(32)\n",
    ")\n",
    "\n",
    "validation_dataset = (\n",
    "    tf.data.Dataset\n",
    "    .from_tensor_slices((x_val, y_val))\n",
    "    .map(decode_image)\n",
    "    .batch(32)\n",
    ")\n",
    "\n",
    "for image, label in train_dataset.take(1): \n",
    "    print(f'Форма пакета изображений: {image.shape}, Форма пакета меток: {label.shape}')"
   ],
   "id": "b18a15d1ea816532",
   "outputs": [],
   "execution_count": null
  },
  {
   "metadata": {},
   "cell_type": "markdown",
   "source": "## Построение модели",
   "id": "870224acaba7139c"
  },
  {
   "metadata": {},
   "cell_type": "code",
   "outputs": [],
   "execution_count": null,
   "source": [
    "inception_v3 = keras.applications.InceptionV3(\n",
    "    input_shape=(128, 128, 3),\n",
    "    weights = 'imagenet',\n",
    "    include_top = False\n",
    ")\n",
    "\n",
    "for layer in inception_v3.layers:\n",
    "    layer.trainable = False\n",
    "\n",
    "data_augmentation = keras.Sequential([\n",
    "    keras.layers.RandomFlip('horizontal'),\n",
    "    keras.layers.RandomRotation(0.1),\n",
    "    keras.layers.RandomZoom(0.2)\n",
    "])\n",
    "\n",
    "last_layer = inception_v3.get_layer('mixed7')\n",
    "print(f'Вывод последнего слоя: {last_layer.output_shape}')\n",
    "last_output = last_layer.output\n",
    "\n",
    "inputs = keras.Input(shape=(128, 128, 3))\n",
    "x = inception_v3(inputs)\n",
    "x = keras.layers.Flatten()(x)\n",
    "x = keras.layers.Dense(256, activation = 'relu')(x)\n",
    "x = keras.layers.BatchNormalization()(x)\n",
    "x = keras.layers.Dense(256, activation = 'relu')(x)\n",
    "x = keras.layers.Dropout(0.3)(x)\n",
    "x = keras.layers.BatchNormalization()(x)\n",
    "outputs = keras.layers.Dense(120, activation = 'softmax')(x)\n",
    "\n",
    "model = keras.Model(inputs, outputs)"
   ],
   "id": "56cfe86c4ccaf0d9"
  },
  {
   "metadata": {},
   "cell_type": "markdown",
   "source": "## Компиляция модели",
   "id": "e4f1052f50e8cf2a"
  },
  {
   "metadata": {},
   "cell_type": "code",
   "outputs": [],
   "execution_count": null,
   "source": [
    "model.compile(\n",
    "    optimizer = 'adam',\n",
    "    loss = keras.losses.CategoricalCrossentropy(from_logits=True),\n",
    "    metrics = ['AUC']\n",
    ")"
   ],
   "id": "ff5938cb3c551bcb"
  },
  {
   "metadata": {},
   "cell_type": "markdown",
   "source": "## Создание обратных вызовов",
   "id": "e0c15b99c8d38575"
  },
  {
   "metadata": {},
   "cell_type": "code",
   "outputs": [],
   "execution_count": null,
   "source": [
    "def exponential_decay(lr0, s):\n",
    "    def exponential_decay_fn(epoch):\n",
    "        return lr0 * 0.1 **(epoch / s)\n",
    "    return exponential_decay_fn\n",
    "\n",
    "\n",
    "exp_decay_fn = exponential_decay(0.01, 20)\n",
    "\n",
    "callbacks = [\n",
    "    tf.keras.callbacks.LearningRateScheduler(exp_decay_fn),\n",
    "    tf.keras.callbacks.ModelCheckpoint('dogbreeds.keras', save_best_only=True),\n",
    "    tf.keras.callbacks.EarlyStopping(patience=10, restore_best_weights=True)\n",
    "]"
   ],
   "id": "9cf1825164c826aa"
  },
  {
   "metadata": {},
   "cell_type": "markdown",
   "source": "## Обучение модели",
   "id": "9d39c11bf6a76912"
  },
  {
   "metadata": {},
   "cell_type": "code",
   "outputs": [],
   "execution_count": null,
   "source": [
    "history = model.fit(\n",
    "    train_dataset, \n",
    "    validation_data=validation_dataset, \n",
    "    epochs=50, \n",
    "    verbose=1, \n",
    "    callbacks=callbacks\n",
    ")"
   ],
   "id": "c7e423a704c02254"
  },
  {
   "metadata": {},
   "cell_type": "markdown",
   "source": "## Визуализация обучения",
   "id": "70f19055f915ebd7"
  },
  {
   "metadata": {},
   "cell_type": "code",
   "outputs": [],
   "execution_count": null,
   "source": [
    "accuracy = history.history['accuracy']\n",
    "val_accuracy = history.history['val_accuracy']\n",
    "loss = history.history['loss']\n",
    "val_loss = history.history['val_loss']\n",
    "epochs = range(1, len(accuracy) + 1)\n",
    "plt.plot(epochs, accuracy, 'bo', label='Точность на этапе обучения')\n",
    "plt.plot(epochs, val_accuracy, 'b', label='Точность на этапе проверки')\n",
    "plt.title('Точность на этапах обучения и проверки')\n",
    "plt.legend()\n",
    "plt.figure()\n",
    "plt.plot(epochs, loss, 'ro', label='Потери на этапе обучения')\n",
    "plt.plot(epochs, val_loss, 'r', label='Потери на этапе проверки')\n",
    "plt.title('Потери на этапах обучения и проверки')\n",
    "plt.legend()\n",
    "plt.show()"
   ],
   "id": "49d3772254c4a3fb"
  }
 ],
 "metadata": {
  "kernelspec": {
   "display_name": "Python 3",
   "language": "python",
   "name": "python3"
  },
  "language_info": {
   "codemirror_mode": {
    "name": "ipython",
    "version": 2
   },
   "file_extension": ".py",
   "mimetype": "text/x-python",
   "name": "python",
   "nbconvert_exporter": "python",
   "pygments_lexer": "ipython2",
   "version": "2.7.6"
  }
 },
 "nbformat": 4,
 "nbformat_minor": 5
}
