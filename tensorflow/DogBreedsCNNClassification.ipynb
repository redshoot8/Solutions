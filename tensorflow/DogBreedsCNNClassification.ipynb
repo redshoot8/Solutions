{
  "cells": [
    {
      "metadata": {
        "id": "db32816ca71d2dae"
      },
      "cell_type": "markdown",
      "source": [
        "# Dog Breeds Convolutional Classificator with TensorFlow\n",
        "\n",
        "## Импорт библиотек"
      ],
      "id": "db32816ca71d2dae"
    },
    {
      "cell_type": "code",
      "execution_count": 1,
      "id": "initial_id",
      "metadata": {
        "collapsed": true,
        "id": "initial_id",
        "outputId": "b4efdb39-f1e6-471f-968b-b54e93f1c5e6",
        "colab": {
          "base_uri": "https://localhost:8080/",
          "height": 35
        }
      },
      "outputs": [
        {
          "output_type": "execute_result",
          "data": {
            "text/plain": [
              "'/device:GPU:0'"
            ],
            "application/vnd.google.colaboratory.intrinsic+json": {
              "type": "string"
            }
          },
          "metadata": {},
          "execution_count": 1
        }
      ],
      "source": [
        "from google.colab import drive\n",
        "import shutil\n",
        "import zipfile\n",
        "import os\n",
        "import pathlib\n",
        "from PIL import Image\n",
        "import tensorflow as tf\n",
        "import numpy as np\n",
        "from tensorflow import keras\n",
        "from matplotlib import pyplot as plt\n",
        "import pandas as pd\n",
        "\n",
        "tf.test.gpu_device_name()"
      ]
    },
    {
      "metadata": {
        "id": "8d902ca3537445b2"
      },
      "cell_type": "markdown",
      "source": [
        "## Подключение GoogleDrive (Для Google Colab)"
      ],
      "id": "8d902ca3537445b2"
    },
    {
      "metadata": {
        "id": "b919302f346187ef",
        "outputId": "73f1ca3b-7c8f-4333-8562-0ae1f15d635a",
        "colab": {
          "base_uri": "https://localhost:8080/"
        }
      },
      "cell_type": "code",
      "outputs": [
        {
          "output_type": "stream",
          "name": "stdout",
          "text": [
            "Mounted at /content/drive\n"
          ]
        }
      ],
      "execution_count": 2,
      "source": [
        "drive.mount('/content/drive')"
      ],
      "id": "b919302f346187ef"
    },
    {
      "metadata": {
        "id": "f2c939a5d221bf27"
      },
      "cell_type": "markdown",
      "source": [
        "## Загрузка набора данных из GoogleDrive\n"
      ],
      "id": "f2c939a5d221bf27"
    },
    {
      "metadata": {
        "id": "cb7eb93c4672aaa8",
        "outputId": "73c9b44f-d42b-479d-90f4-d6f607c20ffa",
        "colab": {
          "base_uri": "https://localhost:8080/"
        }
      },
      "cell_type": "code",
      "outputs": [
        {
          "output_type": "stream",
          "name": "stdout",
          "text": [
            "['annotations', 'images']\n"
          ]
        }
      ],
      "execution_count": 4,
      "source": [
        "zip_file_path = '/content/drive/MyDrive/Datasets/StanfordDogs.zip'\n",
        "shutil.copy(zip_file_path, '/content/')\n",
        "\n",
        "unzip_dir = '/content/StanfordDogs/'\n",
        "with zipfile.ZipFile('/content/StanfordDogs.zip', 'r') as zip_ref:\n",
        "    zip_ref.extractall(unzip_dir)\n",
        "\n",
        "print(os.listdir(unzip_dir))"
      ],
      "id": "cb7eb93c4672aaa8"
    },
    {
      "metadata": {
        "id": "27b7977258a0c526"
      },
      "cell_type": "markdown",
      "source": [
        "## Валидация данных"
      ],
      "id": "27b7977258a0c526"
    },
    {
      "metadata": {
        "id": "e409ff21b2af3622",
        "outputId": "ee7df088-37ca-4ff6-f8d6-47090b25585d",
        "colab": {
          "base_uri": "https://localhost:8080/"
        }
      },
      "cell_type": "code",
      "outputs": [
        {
          "output_type": "stream",
          "name": "stdout",
          "text": [
            "All images are fine\n"
          ]
        }
      ],
      "execution_count": 5,
      "source": [
        "def check_images(directory):\n",
        "    for root, dirs, files in os.walk(directory):\n",
        "        for file in files:\n",
        "            if file.endswith('.jpg'):\n",
        "                filepath = os.path.join(root, file)\n",
        "                try:\n",
        "                    img_raw = tf.io.read_file(filepath)\n",
        "                    img = tf.io.decode_image(img_raw, channels=3)\n",
        "                    img_jpeg = tf.io.encode_jpeg(tf.cast(img, tf.uint8))\n",
        "                except (tf.errors.InvalidArgumentError, ValueError) as e:\n",
        "                    print(f'Error with image {filepath}: {e}')\n",
        "                    os.remove(filepath)  # Удаление проблемного изображения\n",
        "    print('All images are fine')\n",
        "\n",
        "\n",
        "check_images(unzip_dir)"
      ],
      "id": "e409ff21b2af3622"
    },
    {
      "metadata": {
        "id": "fb125670d4a8594"
      },
      "cell_type": "markdown",
      "source": [
        "## Разбиение и загрузка данных"
      ],
      "id": "fb125670d4a8594"
    },
    {
      "metadata": {
        "id": "4fe6703001d897b4",
        "outputId": "b198b004-d94d-4487-94f8-ffc2e4892c32",
        "colab": {
          "base_uri": "https://localhost:8080/"
        }
      },
      "cell_type": "code",
      "outputs": [
        {
          "output_type": "stream",
          "name": "stdout",
          "text": [
            "Found 20580 files belonging to 120 classes.\n",
            "Using 16464 files for training.\n",
            "Found 20580 files belonging to 120 classes.\n",
            "Using 4116 files for validation.\n"
          ]
        }
      ],
      "execution_count": 6,
      "source": [
        "train_dataset = keras.preprocessing.image_dataset_from_directory(\n",
        "    '/content/StanfordDogs/images/Images',\n",
        "    label_mode='categorical',\n",
        "    batch_size=32,\n",
        "    image_size=(224, 224),\n",
        "    validation_split=0.2,\n",
        "    subset='training',\n",
        "    seed=1488\n",
        ")\n",
        "\n",
        "validation_dataset = keras.preprocessing.image_dataset_from_directory(\n",
        "    '/content/StanfordDogs/images/Images',\n",
        "    label_mode='categorical',\n",
        "    batch_size=32,\n",
        "    image_size=(224, 224),\n",
        "    validation_split=0.2,\n",
        "    subset='validation',\n",
        "    seed=1488\n",
        ")"
      ],
      "id": "4fe6703001d897b4"
    },
    {
      "metadata": {
        "id": "90a9802abe6d8190"
      },
      "cell_type": "markdown",
      "source": [
        "## Построение модели\n",
        "\n",
        "Модель будет дообучаться на базовой модели, обученной на основе набора данных ImageNet."
      ],
      "id": "90a9802abe6d8190"
    },
    {
      "metadata": {
        "id": "a4f36fc78970827b",
        "outputId": "49cb5407-29e2-4ecc-db47-9258972ae657",
        "colab": {
          "base_uri": "https://localhost:8080/"
        }
      },
      "cell_type": "code",
      "outputs": [
        {
          "output_type": "stream",
          "name": "stdout",
          "text": [
            "Base model (No top) layers count: 187\n"
          ]
        }
      ],
      "execution_count": 81,
      "source": [
        "base_model = keras.applications.MobileNetV3Large(\n",
        "    weights='imagenet',\n",
        "    include_top=False,\n",
        "    input_shape=(224, 224, 3)\n",
        ")\n",
        "print(f'Base model (No top) layers count: {len(base_model.layers)}')"
      ],
      "id": "a4f36fc78970827b"
    },
    {
      "metadata": {
        "id": "8e6bb29c2bea3e7f",
        "outputId": "025dfe15-9126-4d48-9080-d7b988ea2cc0",
        "colab": {
          "base_uri": "https://localhost:8080/",
          "height": 391
        }
      },
      "cell_type": "code",
      "outputs": [
        {
          "output_type": "display_data",
          "data": {
            "text/plain": [
              "\u001b[1mModel: \"functional_45\"\u001b[0m\n"
            ],
            "text/html": [
              "<pre style=\"white-space:pre;overflow-x:auto;line-height:normal;font-family:Menlo,'DejaVu Sans Mono',consolas,'Courier New',monospace\"><span style=\"font-weight: bold\">Model: \"functional_45\"</span>\n",
              "</pre>\n"
            ]
          },
          "metadata": {}
        },
        {
          "output_type": "display_data",
          "data": {
            "text/plain": [
              "┏━━━━━━━━━━━━━━━━━━━━━━━━━━━━━━━━━━━━━━┳━━━━━━━━━━━━━━━━━━━━━━━━━━━━━┳━━━━━━━━━━━━━━━━━┓\n",
              "┃\u001b[1m \u001b[0m\u001b[1mLayer (type)                        \u001b[0m\u001b[1m \u001b[0m┃\u001b[1m \u001b[0m\u001b[1mOutput Shape               \u001b[0m\u001b[1m \u001b[0m┃\u001b[1m \u001b[0m\u001b[1m        Param #\u001b[0m\u001b[1m \u001b[0m┃\n",
              "┡━━━━━━━━━━━━━━━━━━━━━━━━━━━━━━━━━━━━━━╇━━━━━━━━━━━━━━━━━━━━━━━━━━━━━╇━━━━━━━━━━━━━━━━━┩\n",
              "│ input_layer_36 (\u001b[38;5;33mInputLayer\u001b[0m)          │ (\u001b[38;5;45mNone\u001b[0m, \u001b[38;5;34m224\u001b[0m, \u001b[38;5;34m224\u001b[0m, \u001b[38;5;34m3\u001b[0m)         │               \u001b[38;5;34m0\u001b[0m │\n",
              "├──────────────────────────────────────┼─────────────────────────────┼─────────────────┤\n",
              "│ sequential_12 (\u001b[38;5;33mSequential\u001b[0m)           │ (\u001b[38;5;45mNone\u001b[0m, \u001b[38;5;34m224\u001b[0m, \u001b[38;5;34m224\u001b[0m, \u001b[38;5;34m3\u001b[0m)         │               \u001b[38;5;34m0\u001b[0m │\n",
              "├──────────────────────────────────────┼─────────────────────────────┼─────────────────┤\n",
              "│ MobileNetV3Large (\u001b[38;5;33mFunctional\u001b[0m)        │ (\u001b[38;5;45mNone\u001b[0m, \u001b[38;5;34m7\u001b[0m, \u001b[38;5;34m7\u001b[0m, \u001b[38;5;34m960\u001b[0m)           │       \u001b[38;5;34m2,996,352\u001b[0m │\n",
              "├──────────────────────────────────────┼─────────────────────────────┼─────────────────┤\n",
              "│ global_average_pooling2d_12          │ (\u001b[38;5;45mNone\u001b[0m, \u001b[38;5;34m960\u001b[0m)                 │               \u001b[38;5;34m0\u001b[0m │\n",
              "│ (\u001b[38;5;33mGlobalAveragePooling2D\u001b[0m)             │                             │                 │\n",
              "├──────────────────────────────────────┼─────────────────────────────┼─────────────────┤\n",
              "│ dense_24 (\u001b[38;5;33mDense\u001b[0m)                     │ (\u001b[38;5;45mNone\u001b[0m, \u001b[38;5;34m256\u001b[0m)                 │         \u001b[38;5;34m246,016\u001b[0m │\n",
              "├──────────────────────────────────────┼─────────────────────────────┼─────────────────┤\n",
              "│ dropout_12 (\u001b[38;5;33mDropout\u001b[0m)                 │ (\u001b[38;5;45mNone\u001b[0m, \u001b[38;5;34m256\u001b[0m)                 │               \u001b[38;5;34m0\u001b[0m │\n",
              "├──────────────────────────────────────┼─────────────────────────────┼─────────────────┤\n",
              "│ dense_25 (\u001b[38;5;33mDense\u001b[0m)                     │ (\u001b[38;5;45mNone\u001b[0m, \u001b[38;5;34m120\u001b[0m)                 │          \u001b[38;5;34m30,840\u001b[0m │\n",
              "└──────────────────────────────────────┴─────────────────────────────┴─────────────────┘\n"
            ],
            "text/html": [
              "<pre style=\"white-space:pre;overflow-x:auto;line-height:normal;font-family:Menlo,'DejaVu Sans Mono',consolas,'Courier New',monospace\">┏━━━━━━━━━━━━━━━━━━━━━━━━━━━━━━━━━━━━━━┳━━━━━━━━━━━━━━━━━━━━━━━━━━━━━┳━━━━━━━━━━━━━━━━━┓\n",
              "┃<span style=\"font-weight: bold\"> Layer (type)                         </span>┃<span style=\"font-weight: bold\"> Output Shape                </span>┃<span style=\"font-weight: bold\">         Param # </span>┃\n",
              "┡━━━━━━━━━━━━━━━━━━━━━━━━━━━━━━━━━━━━━━╇━━━━━━━━━━━━━━━━━━━━━━━━━━━━━╇━━━━━━━━━━━━━━━━━┩\n",
              "│ input_layer_36 (<span style=\"color: #0087ff; text-decoration-color: #0087ff\">InputLayer</span>)          │ (<span style=\"color: #00d7ff; text-decoration-color: #00d7ff\">None</span>, <span style=\"color: #00af00; text-decoration-color: #00af00\">224</span>, <span style=\"color: #00af00; text-decoration-color: #00af00\">224</span>, <span style=\"color: #00af00; text-decoration-color: #00af00\">3</span>)         │               <span style=\"color: #00af00; text-decoration-color: #00af00\">0</span> │\n",
              "├──────────────────────────────────────┼─────────────────────────────┼─────────────────┤\n",
              "│ sequential_12 (<span style=\"color: #0087ff; text-decoration-color: #0087ff\">Sequential</span>)           │ (<span style=\"color: #00d7ff; text-decoration-color: #00d7ff\">None</span>, <span style=\"color: #00af00; text-decoration-color: #00af00\">224</span>, <span style=\"color: #00af00; text-decoration-color: #00af00\">224</span>, <span style=\"color: #00af00; text-decoration-color: #00af00\">3</span>)         │               <span style=\"color: #00af00; text-decoration-color: #00af00\">0</span> │\n",
              "├──────────────────────────────────────┼─────────────────────────────┼─────────────────┤\n",
              "│ MobileNetV3Large (<span style=\"color: #0087ff; text-decoration-color: #0087ff\">Functional</span>)        │ (<span style=\"color: #00d7ff; text-decoration-color: #00d7ff\">None</span>, <span style=\"color: #00af00; text-decoration-color: #00af00\">7</span>, <span style=\"color: #00af00; text-decoration-color: #00af00\">7</span>, <span style=\"color: #00af00; text-decoration-color: #00af00\">960</span>)           │       <span style=\"color: #00af00; text-decoration-color: #00af00\">2,996,352</span> │\n",
              "├──────────────────────────────────────┼─────────────────────────────┼─────────────────┤\n",
              "│ global_average_pooling2d_12          │ (<span style=\"color: #00d7ff; text-decoration-color: #00d7ff\">None</span>, <span style=\"color: #00af00; text-decoration-color: #00af00\">960</span>)                 │               <span style=\"color: #00af00; text-decoration-color: #00af00\">0</span> │\n",
              "│ (<span style=\"color: #0087ff; text-decoration-color: #0087ff\">GlobalAveragePooling2D</span>)             │                             │                 │\n",
              "├──────────────────────────────────────┼─────────────────────────────┼─────────────────┤\n",
              "│ dense_24 (<span style=\"color: #0087ff; text-decoration-color: #0087ff\">Dense</span>)                     │ (<span style=\"color: #00d7ff; text-decoration-color: #00d7ff\">None</span>, <span style=\"color: #00af00; text-decoration-color: #00af00\">256</span>)                 │         <span style=\"color: #00af00; text-decoration-color: #00af00\">246,016</span> │\n",
              "├──────────────────────────────────────┼─────────────────────────────┼─────────────────┤\n",
              "│ dropout_12 (<span style=\"color: #0087ff; text-decoration-color: #0087ff\">Dropout</span>)                 │ (<span style=\"color: #00d7ff; text-decoration-color: #00d7ff\">None</span>, <span style=\"color: #00af00; text-decoration-color: #00af00\">256</span>)                 │               <span style=\"color: #00af00; text-decoration-color: #00af00\">0</span> │\n",
              "├──────────────────────────────────────┼─────────────────────────────┼─────────────────┤\n",
              "│ dense_25 (<span style=\"color: #0087ff; text-decoration-color: #0087ff\">Dense</span>)                     │ (<span style=\"color: #00d7ff; text-decoration-color: #00d7ff\">None</span>, <span style=\"color: #00af00; text-decoration-color: #00af00\">120</span>)                 │          <span style=\"color: #00af00; text-decoration-color: #00af00\">30,840</span> │\n",
              "└──────────────────────────────────────┴─────────────────────────────┴─────────────────┘\n",
              "</pre>\n"
            ]
          },
          "metadata": {}
        },
        {
          "output_type": "display_data",
          "data": {
            "text/plain": [
              "\u001b[1m Total params: \u001b[0m\u001b[38;5;34m3,273,208\u001b[0m (12.49 MB)\n"
            ],
            "text/html": [
              "<pre style=\"white-space:pre;overflow-x:auto;line-height:normal;font-family:Menlo,'DejaVu Sans Mono',consolas,'Courier New',monospace\"><span style=\"font-weight: bold\"> Total params: </span><span style=\"color: #00af00; text-decoration-color: #00af00\">3,273,208</span> (12.49 MB)\n",
              "</pre>\n"
            ]
          },
          "metadata": {}
        },
        {
          "output_type": "display_data",
          "data": {
            "text/plain": [
              "\u001b[1m Trainable params: \u001b[0m\u001b[38;5;34m276,856\u001b[0m (1.06 MB)\n"
            ],
            "text/html": [
              "<pre style=\"white-space:pre;overflow-x:auto;line-height:normal;font-family:Menlo,'DejaVu Sans Mono',consolas,'Courier New',monospace\"><span style=\"font-weight: bold\"> Trainable params: </span><span style=\"color: #00af00; text-decoration-color: #00af00\">276,856</span> (1.06 MB)\n",
              "</pre>\n"
            ]
          },
          "metadata": {}
        },
        {
          "output_type": "display_data",
          "data": {
            "text/plain": [
              "\u001b[1m Non-trainable params: \u001b[0m\u001b[38;5;34m2,996,352\u001b[0m (11.43 MB)\n"
            ],
            "text/html": [
              "<pre style=\"white-space:pre;overflow-x:auto;line-height:normal;font-family:Menlo,'DejaVu Sans Mono',consolas,'Courier New',monospace\"><span style=\"font-weight: bold\"> Non-trainable params: </span><span style=\"color: #00af00; text-decoration-color: #00af00\">2,996,352</span> (11.43 MB)\n",
              "</pre>\n"
            ]
          },
          "metadata": {}
        }
      ],
      "execution_count": 82,
      "source": [
        "base_model.trainable = False\n",
        "\n",
        "data_augmentation = keras.Sequential([\n",
        "    keras.layers.RandomFlip('horizontal'),\n",
        "    keras.layers.RandomRotation(0.1),\n",
        "    keras.layers.RandomZoom(0.2),\n",
        "    keras.layers.RandomContrast(0.1),\n",
        "    keras.layers.RandomBrightness(0.2)\n",
        "])\n",
        "\n",
        "inputs = keras.Input(shape=(224, 224, 3))\n",
        "x = data_augmentation(inputs)\n",
        "x = base_model(x)\n",
        "x = keras.layers.GlobalAveragePooling2D()(x)\n",
        "x = keras.layers.Dense(256, activation='relu')(x)\n",
        "x = keras.layers.Dropout(0.5)(x)\n",
        "outputs = keras.layers.Dense(120, activation='softmax')(x)\n",
        "\n",
        "model = keras.Model(inputs, outputs)\n",
        "model.summary()"
      ],
      "id": "8e6bb29c2bea3e7f"
    },
    {
      "metadata": {
        "id": "dc08f2f635f2831c"
      },
      "cell_type": "markdown",
      "source": [
        "## Компиляция модели"
      ],
      "id": "dc08f2f635f2831c"
    },
    {
      "metadata": {
        "id": "c74be5aaf554306d"
      },
      "cell_type": "code",
      "outputs": [],
      "execution_count": 83,
      "source": [
        "model.compile(\n",
        "    loss='categorical_crossentropy',\n",
        "    optimizer='adam',\n",
        "    metrics=['accuracy']\n",
        ")"
      ],
      "id": "c74be5aaf554306d"
    },
    {
      "metadata": {
        "id": "c1f533969f8115f6"
      },
      "cell_type": "markdown",
      "source": [
        "## Создание обратных вызовов"
      ],
      "id": "c1f533969f8115f6"
    },
    {
      "metadata": {
        "id": "5cdc639bd3695c42"
      },
      "cell_type": "code",
      "outputs": [],
      "execution_count": 84,
      "source": [
        "callbacks = [\n",
        "    keras.callbacks.ModelCheckpoint(\n",
        "        filepath='/content/drive/MyDrive/Models/dogbreeds.keras',\n",
        "        save_best_only=True\n",
        "    ),\n",
        "    keras.callbacks.EarlyStopping(\n",
        "        monitor='val_accuracy',\n",
        "\t\tpatience=3\n",
        "    )\n",
        "]"
      ],
      "id": "5cdc639bd3695c42"
    },
    {
      "metadata": {
        "id": "308de98b26258cb7"
      },
      "cell_type": "markdown",
      "source": [
        "## Обучение модели"
      ],
      "id": "308de98b26258cb7"
    },
    {
      "metadata": {
        "id": "7dc5c07a71844d95",
        "outputId": "18ea9328-558a-41fe-9b4c-b5049685816a",
        "colab": {
          "base_uri": "https://localhost:8080/"
        }
      },
      "cell_type": "code",
      "outputs": [
        {
          "output_type": "stream",
          "name": "stdout",
          "text": [
            "Epoch 1/50\n",
            "\u001b[1m515/515\u001b[0m \u001b[32m━━━━━━━━━━━━━━━━━━━━\u001b[0m\u001b[37m\u001b[0m \u001b[1m48s\u001b[0m 80ms/step - accuracy: 0.2554 - loss: 3.3162 - val_accuracy: 0.7388 - val_loss: 0.8475\n",
            "Epoch 2/50\n",
            "\u001b[1m515/515\u001b[0m \u001b[32m━━━━━━━━━━━━━━━━━━━━\u001b[0m\u001b[37m\u001b[0m \u001b[1m41s\u001b[0m 80ms/step - accuracy: 0.5879 - loss: 1.4416 - val_accuracy: 0.7668 - val_loss: 0.7523\n",
            "Epoch 3/50\n",
            "\u001b[1m515/515\u001b[0m \u001b[32m━━━━━━━━━━━━━━━━━━━━\u001b[0m\u001b[37m\u001b[0m \u001b[1m82s\u001b[0m 80ms/step - accuracy: 0.6328 - loss: 1.2561 - val_accuracy: 0.7758 - val_loss: 0.7202\n",
            "Epoch 4/50\n",
            "\u001b[1m515/515\u001b[0m \u001b[32m━━━━━━━━━━━━━━━━━━━━\u001b[0m\u001b[37m\u001b[0m \u001b[1m82s\u001b[0m 80ms/step - accuracy: 0.6638 - loss: 1.1468 - val_accuracy: 0.7750 - val_loss: 0.7160\n",
            "Epoch 5/50\n",
            "\u001b[1m515/515\u001b[0m \u001b[32m━━━━━━━━━━━━━━━━━━━━\u001b[0m\u001b[37m\u001b[0m \u001b[1m83s\u001b[0m 82ms/step - accuracy: 0.6733 - loss: 1.0858 - val_accuracy: 0.7818 - val_loss: 0.7099\n",
            "Epoch 6/50\n",
            "\u001b[1m515/515\u001b[0m \u001b[32m━━━━━━━━━━━━━━━━━━━━\u001b[0m\u001b[37m\u001b[0m \u001b[1m39s\u001b[0m 75ms/step - accuracy: 0.6814 - loss: 1.0490 - val_accuracy: 0.7813 - val_loss: 0.6983\n",
            "Epoch 7/50\n",
            "\u001b[1m515/515\u001b[0m \u001b[32m━━━━━━━━━━━━━━━━━━━━\u001b[0m\u001b[37m\u001b[0m \u001b[1m41s\u001b[0m 75ms/step - accuracy: 0.6985 - loss: 0.9897 - val_accuracy: 0.7869 - val_loss: 0.6970\n",
            "Epoch 8/50\n",
            "\u001b[1m515/515\u001b[0m \u001b[32m━━━━━━━━━━━━━━━━━━━━\u001b[0m\u001b[37m\u001b[0m \u001b[1m40s\u001b[0m 72ms/step - accuracy: 0.7073 - loss: 0.9598 - val_accuracy: 0.7770 - val_loss: 0.7095\n",
            "Epoch 9/50\n",
            "\u001b[1m515/515\u001b[0m \u001b[32m━━━━━━━━━━━━━━━━━━━━\u001b[0m\u001b[37m\u001b[0m \u001b[1m40s\u001b[0m 70ms/step - accuracy: 0.7108 - loss: 0.9351 - val_accuracy: 0.7877 - val_loss: 0.7095\n",
            "Epoch 10/50\n",
            "\u001b[1m515/515\u001b[0m \u001b[32m━━━━━━━━━━━━━━━━━━━━\u001b[0m\u001b[37m\u001b[0m \u001b[1m41s\u001b[0m 70ms/step - accuracy: 0.7153 - loss: 0.9350 - val_accuracy: 0.7845 - val_loss: 0.7221\n",
            "Epoch 11/50\n",
            "\u001b[1m515/515\u001b[0m \u001b[32m━━━━━━━━━━━━━━━━━━━━\u001b[0m\u001b[37m\u001b[0m \u001b[1m38s\u001b[0m 74ms/step - accuracy: 0.7173 - loss: 0.9194 - val_accuracy: 0.7928 - val_loss: 0.7103\n",
            "Epoch 12/50\n",
            "\u001b[1m515/515\u001b[0m \u001b[32m━━━━━━━━━━━━━━━━━━━━\u001b[0m\u001b[37m\u001b[0m \u001b[1m37s\u001b[0m 72ms/step - accuracy: 0.7269 - loss: 0.8957 - val_accuracy: 0.7911 - val_loss: 0.7127\n",
            "Epoch 13/50\n",
            "\u001b[1m515/515\u001b[0m \u001b[32m━━━━━━━━━━━━━━━━━━━━\u001b[0m\u001b[37m\u001b[0m \u001b[1m37s\u001b[0m 72ms/step - accuracy: 0.7317 - loss: 0.8707 - val_accuracy: 0.7884 - val_loss: 0.7254\n",
            "Epoch 14/50\n",
            "\u001b[1m515/515\u001b[0m \u001b[32m━━━━━━━━━━━━━━━━━━━━\u001b[0m\u001b[37m\u001b[0m \u001b[1m44s\u001b[0m 79ms/step - accuracy: 0.7390 - loss: 0.8498 - val_accuracy: 0.7898 - val_loss: 0.7071\n"
          ]
        }
      ],
      "execution_count": 85,
      "source": [
        "history = model.fit(\n",
        "    train_dataset,\n",
        "    validation_data=validation_dataset,\n",
        "    epochs=50,\n",
        "    callbacks=callbacks\n",
        ")"
      ],
      "id": "7dc5c07a71844d95"
    },
    {
      "metadata": {
        "id": "e37d02498e5a9cd5"
      },
      "cell_type": "markdown",
      "source": [
        "## Визуализация обучения"
      ],
      "id": "e37d02498e5a9cd5"
    },
    {
      "metadata": {
        "id": "451175fe32d8b61a",
        "outputId": "0faed278-4dd3-4ba7-ea8a-9c7b1d7c4962",
        "colab": {
          "base_uri": "https://localhost:8080/",
          "height": 887
        }
      },
      "cell_type": "code",
      "outputs": [
        {
          "output_type": "display_data",
          "data": {
            "text/plain": [
              "<Figure size 640x480 with 1 Axes>"
            ],
            "image/png": "[encoded data removed]"
          },
          "metadata": {}
        },
        {
          "output_type": "display_data",
          "data": {
            "text/plain": [
              "<Figure size 640x480 with 1 Axes>"
            ],
            "image/png": "[encoded data removed]"
          },
          "metadata": {}
        }
      ],
      "execution_count": 86,
      "source": [
        "accuracy = history.history['accuracy']\n",
        "val_accuracy = history.history['val_accuracy']\n",
        "loss = history.history['loss']\n",
        "val_loss = history.history['val_loss']\n",
        "epochs = range(1, len(accuracy) + 1)\n",
        "plt.plot(epochs, accuracy, 'go', label='Точность на этапе обучения')\n",
        "plt.plot(epochs, val_accuracy, 'g', label='Точность на этапе проверки')\n",
        "plt.title('Точность на этапах обучения и проверки')\n",
        "plt.legend()\n",
        "plt.figure()\n",
        "plt.plot(epochs, loss, 'ro', label='Потери на этапе обучения')\n",
        "plt.plot(epochs, val_loss, 'r', label='Потери на этапе проверки')\n",
        "plt.title('Потери на этапах обучения и проверки')\n",
        "plt.legend()\n",
        "plt.show()"
      ],
      "id": "451175fe32d8b61a"
    },
    {
      "metadata": {
        "id": "9a7e8408014e4edf"
      },
      "cell_type": "markdown",
      "source": [
        "## Тестирование модели"
      ],
      "id": "9a7e8408014e4edf"
    },
    {
      "metadata": {
        "id": "45e42a6f5c02ba0",
        "outputId": "f32d0689-6035-4952-b77b-4afcd99e3fd0",
        "colab": {
          "base_uri": "https://localhost:8080/"
        }
      },
      "cell_type": "code",
      "outputs": [
        {
          "output_type": "stream",
          "name": "stdout",
          "text": [
            "\u001b[1m129/129\u001b[0m \u001b[32m━━━━━━━━━━━━━━━━━━━━\u001b[0m\u001b[37m\u001b[0m \u001b[1m10s\u001b[0m 56ms/step - accuracy: 0.7832 - loss: 0.7287\n",
            "Test accuracy: 0.787\n"
          ]
        }
      ],
      "execution_count": 87,
      "source": [
        "test_model = keras.models.load_model('/content/drive/MyDrive/Models/dogbreeds.keras')\n",
        "test_loss, test_acc = test_model.evaluate(validation_dataset)\n",
        "print(f'Test accuracy: {test_acc:.3f}')"
      ],
      "id": "45e42a6f5c02ba0"
    },
    {
      "metadata": {
        "id": "fafbc03f96e48d8e"
      },
      "cell_type": "markdown",
      "source": [
        "## Просмотр формата предсказаний"
      ],
      "id": "fafbc03f96e48d8e"
    },
    {
      "metadata": {
        "id": "f0780d072fe7a8f9",
        "outputId": "c7cb9652-3cee-4537-ca56-eafdd78b8a76",
        "colab": {
          "base_uri": "https://localhost:8080/"
        }
      },
      "cell_type": "code",
      "outputs": [
        {
          "output_type": "stream",
          "name": "stdout",
          "text": [
            "\u001b[1m1/1\u001b[0m \u001b[32m━━━━━━━━━━━━━━━━━━━━\u001b[0m\u001b[37m\u001b[0m \u001b[1m4s\u001b[0m 4s/step\n",
            "Prediction format: [[5.47423546e-08 8.66436506e-11 6.82689794e-15 ... 2.54475302e-10\n",
            "  8.87687424e-11 1.09170702e-11]\n",
            " [5.56816522e-05 7.73074978e-04 1.35648949e-02 ... 1.39381381e-10\n",
            "  9.47660506e-10 1.48788792e-09]\n",
            " [2.95342176e-07 4.03091838e-10 3.63930891e-12 ... 6.83959822e-09\n",
            "  9.86021078e-08 2.95835634e-10]\n",
            " ...\n",
            " [1.19742625e-08 1.68604697e-09 3.04419823e-09 ... 2.40905247e-11\n",
            "  2.01049621e-09 2.34049360e-11]\n",
            " [9.94145388e-09 2.58339099e-07 1.89257410e-09 ... 8.40905567e-09\n",
            "  8.73449535e-10 6.78520422e-08]\n",
            " [6.78576271e-07 2.02800976e-08 1.03241170e-03 ... 8.54651593e-12\n",
            "  3.30346167e-10 3.18466115e-10]]\n"
          ]
        }
      ],
      "execution_count": 88,
      "source": [
        "prediction = test_model.predict(validation_dataset.take(1))\n",
        "print(f'Prediction format: {prediction}')"
      ],
      "id": "f0780d072fe7a8f9"
    },
    {
      "metadata": {
        "id": "4a54dc4144d29e9c"
      },
      "cell_type": "markdown",
      "source": [
        "## Сохранение списка меток"
      ],
      "id": "4a54dc4144d29e9c"
    },
    {
      "metadata": {
        "id": "2a1b0e875948c4b3"
      },
      "cell_type": "code",
      "outputs": [],
      "execution_count": 89,
      "source": [
        "class_names = train_dataset.class_names\n",
        "classes_df = pd.DataFrame(class_names, columns=['Classes'])\n",
        "classes_df.to_csv('/content/drive/MyDrive/Models/Labels/dogbreeds.csv', index=False)"
      ],
      "id": "2a1b0e875948c4b3"
    }
  ],
  "metadata": {
    "kernelspec": {
      "display_name": "Python 3",
      "name": "python3"
    },
    "language_info": {
      "codemirror_mode": {
        "name": "ipython",
        "version": 2
      },
      "file_extension": ".py",
      "mimetype": "text/x-python",
      "name": "python",
      "nbconvert_exporter": "python",
      "pygments_lexer": "ipython2",
      "version": "2.7.6"
    },
    "colab": {
      "provenance": [],
      "gpuType": "T4"
    },
    "accelerator": "GPU"
  },
  "nbformat": 4,
  "nbformat_minor": 5
}