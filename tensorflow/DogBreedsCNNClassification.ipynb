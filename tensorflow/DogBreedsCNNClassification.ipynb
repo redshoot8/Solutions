{
 "cells": [
  {
   "metadata": {},
   "cell_type": "markdown",
   "source": [
    "# Dog Breeds Convolutional Classificator with TensorFlow\n",
    "\n",
    "## Импорт библиотек"
   ],
   "id": "db32816ca71d2dae"
  },
  {
   "cell_type": "code",
   "execution_count": null,
   "id": "initial_id",
   "metadata": {
    "collapsed": true
   },
   "outputs": [],
   "source": [
    "from google.colab import drive\n",
    "import shutil\n",
    "import zipfile\n",
    "import os\n",
    "import pathlib\n",
    "from PIL import Image\n",
    "import tensorflow as tf\n",
    "import numpy as np\n",
    "from tensorflow import keras\n",
    "from matplotlib import pyplot as plt\n",
    "\n",
    "tf.test.gpu_device_name()"
   ]
  },
  {
   "metadata": {},
   "cell_type": "markdown",
   "source": "## Подключение GoogleDrive (Для Google Colab)",
   "id": "8d902ca3537445b2"
  },
  {
   "metadata": {},
   "cell_type": "code",
   "outputs": [],
   "execution_count": null,
   "source": "drive.mount('/content/drive')",
   "id": "b919302f346187ef"
  },
  {
   "metadata": {},
   "cell_type": "markdown",
   "source": "## Загрузка набора данных из GoogleDrive\n",
   "id": "f2c939a5d221bf27"
  },
  {
   "metadata": {},
   "cell_type": "code",
   "outputs": [],
   "execution_count": null,
   "source": [
    "zip_file_path = '/content/drive/MyDrive/Datasets/StanfordDogs.zip'\n",
    "shutil.copy(zip_file_path, '/content/')\n",
    "\n",
    "unzip_dir = '/content/StanfordDogs/'\n",
    "with zipfile.ZipFile('/content/StanfordDogs.zip', 'r') as zip_ref:\n",
    "    zip_ref.extractall(unzip_dir)\n",
    "\n",
    "print(os.listdir(unzip_dir))"
   ],
   "id": "cb7eb93c4672aaa8"
  },
  {
   "metadata": {},
   "cell_type": "markdown",
   "source": "## Валидация данных",
   "id": "27b7977258a0c526"
  },
  {
   "metadata": {},
   "cell_type": "code",
   "outputs": [],
   "execution_count": null,
   "source": [
    "def check_images(directory):\n",
    "    for root, dirs, files in os.walk(directory):\n",
    "        for file in files:\n",
    "            if file.endswith('.jpg'):\n",
    "                filepath = os.path.join(root, file)\n",
    "                try:\n",
    "                    img_raw = tf.io.read_file(filepath)\n",
    "                    img = tf.io.decode_image(img_raw, channels=3)\n",
    "                    img_jpeg = tf.io.encode_jpeg(tf.cast(img, tf.uint8))\n",
    "                except (tf.errors.InvalidArgumentError, ValueError) as e:\n",
    "                    print(f'Error with image {filepath}: {e}')\n",
    "                    os.remove(filepath)  # Удаление проблемного изображения\n",
    "    print('All images are fine')\n",
    "\n",
    "\n",
    "check_images(unzip_dir)"
   ],
   "id": "e409ff21b2af3622"
  },
  {
   "metadata": {},
   "cell_type": "markdown",
   "source": "## Разбиение и загрузка данных",
   "id": "fb125670d4a8594"
  },
  {
   "metadata": {},
   "cell_type": "code",
   "outputs": [],
   "execution_count": null,
   "source": [
    "train_dataset = keras.preprocessing.image_dataset_from_directory(\n",
    "    '/content/StanfordDogs/images/Images',\n",
    "    label_mode='categorical',\n",
    "    batch_size=32,\n",
    "    image_size=(224, 224),\n",
    "    validation_split=0.2,\n",
    "    subset='training',\n",
    "    seed=1488\n",
    ")\n",
    "\n",
    "validation_dataset = keras.preprocessing.image_dataset_from_directory(\n",
    "    '/content/StanfordDogs/images/Images',\n",
    "    label_mode='categorical',\n",
    "    batch_size=32,\n",
    "    image_size=(224, 224),\n",
    "    validation_split=0.2,\n",
    "    subset='validation',\n",
    "    seed=1488\n",
    ")"
   ],
   "id": "4fe6703001d897b4"
  },
  {
   "metadata": {},
   "cell_type": "markdown",
   "source": [
    "## Построение модели\n",
    "\n",
    "Модель будет дообучаться на модели InceptionV3, обученной на основе набора данных ImageNet."
   ],
   "id": "90a9802abe6d8190"
  },
  {
   "metadata": {},
   "cell_type": "code",
   "outputs": [],
   "execution_count": null,
   "source": [
    "inception_v3 = keras.applications.InceptionV3(\n",
    "    weights='imagenet',\n",
    "    include_top=False,\n",
    "    input_shape=(224, 224, 3)\n",
    ")\n",
    "print(f'InceptionV3 (No top) layers count: {len(inception_v3.layers)}')"
   ],
   "id": "a4f36fc78970827b"
  },
  {
   "metadata": {},
   "cell_type": "code",
   "outputs": [],
   "execution_count": null,
   "source": [
    "inception_v3.trainable = True\n",
    "\n",
    "for layer in inception_v3.layers[:-200]:\n",
    "    layer.trainable = False\n",
    "\n",
    "data_augmentation = keras.Sequential([\n",
    "    keras.layers.RandomFlip('horizontal'),\n",
    "    keras.layers.RandomRotation(0.1),\n",
    "    keras.layers.RandomZoom(0.2)\n",
    "])\n",
    "\n",
    "inputs = keras.Input(shape=(224, 224, 3))\n",
    "x = data_augmentation(inputs)\n",
    "x = inception_v3(x)\n",
    "x = keras.layers.GlobalPooling2D()(x)\n",
    "x = keras.layers.Dense(256)(x)\n",
    "x = keras.layers.Dropout(0.5)(x)\n",
    "outputs = keras.layers.Dense(120, activation='softmax')(x)\n",
    "\n",
    "model = keras.Model(inputs, outputs)\n",
    "model.summary()"
   ],
   "id": "8e6bb29c2bea3e7f"
  },
  {
   "metadata": {},
   "cell_type": "markdown",
   "source": "## Компиляция модели",
   "id": "dc08f2f635f2831c"
  },
  {
   "metadata": {},
   "cell_type": "code",
   "outputs": [],
   "execution_count": null,
   "source": [
    "model.compile(\n",
    "    loss='categorical_crossentropy',\n",
    "    optimizer='adam',\n",
    "    metrics=['accuracy']\n",
    ")"
   ],
   "id": "c74be5aaf554306d"
  },
  {
   "metadata": {},
   "cell_type": "markdown",
   "source": "## Создание обратных вызовов",
   "id": "c1f533969f8115f6"
  },
  {
   "metadata": {},
   "cell_type": "code",
   "outputs": [],
   "execution_count": null,
   "source": [
    "callbacks = [\n",
    "    keras.callbacks.ModelCheckpoint(\n",
    "        filepath='/content/drive/MyDrive/Models/dogbreeds.keras',\n",
    "        save_best_only=True\n",
    "    ),\n",
    "    keras.callbacks.EarlyStopping(\n",
    "        monitor='val_accuracy',\n",
    "\t\tpatience=3\n",
    "    )\n",
    "]"
   ],
   "id": "5cdc639bd3695c42"
  },
  {
   "metadata": {},
   "cell_type": "markdown",
   "source": "## Обучение модели",
   "id": "308de98b26258cb7"
  },
  {
   "metadata": {},
   "cell_type": "code",
   "outputs": [],
   "execution_count": null,
   "source": [
    "history = model.fit(\n",
    "    train_dataset,\n",
    "    validation_data=validation_dataset,\n",
    "    epochs=50,\n",
    "    callbacks=callbacks\n",
    ")"
   ],
   "id": "7dc5c07a71844d95"
  },
  {
   "metadata": {},
   "cell_type": "markdown",
   "source": "## Визуализация обучения",
   "id": "e37d02498e5a9cd5"
  },
  {
   "metadata": {},
   "cell_type": "code",
   "outputs": [],
   "execution_count": null,
   "source": [
    "accuracy = history.history['accuracy']\n",
    "val_accuracy = history.history['val_accuracy']\n",
    "loss = history.history['loss']\n",
    "val_loss = history.history['val_loss']\n",
    "epochs = range(1, len(accuracy) + 1)\n",
    "plt.plot(epochs, accuracy, 'go', label='Точность на этапе обучения')\n",
    "plt.plot(epochs, val_accuracy, 'g', label='Точность на этапе проверки')\n",
    "plt.title('Точность на этапах обучения и проверки')\n",
    "plt.legend()\n",
    "plt.figure()\n",
    "plt.plot(epochs, loss, 'ro', label='Потери на этапе обучения')\n",
    "plt.plot(epochs, val_loss, 'r', label='Потери на этапе проверки')\n",
    "plt.title('Потери на этапах обучения и проверки')\n",
    "plt.legend()\n",
    "plt.show()"
   ],
   "id": "451175fe32d8b61a"
  },
  {
   "metadata": {},
   "cell_type": "markdown",
   "source": "## Тестирование модели",
   "id": "9a7e8408014e4edf"
  },
  {
   "metadata": {},
   "cell_type": "code",
   "outputs": [],
   "execution_count": null,
   "source": [
    "test_model = keras.models.load_model('/content/drive/MyDrive/Models/dogbreeds.keras')\n",
    "test_loss, test_acc = test_model.evaluate(validation_dataset)\n",
    "print(f'Test accuracy: {test_acc:.3f}')"
   ],
   "id": "45e42a6f5c02ba0"
  },
  {
   "metadata": {},
   "cell_type": "markdown",
   "source": "## Просмотр формата предсказаний",
   "id": "fafbc03f96e48d8e"
  },
  {
   "metadata": {},
   "cell_type": "code",
   "outputs": [],
   "execution_count": null,
   "source": [
    "prediction = test_model.predict(validation_dataset.take(1))\n",
    "print(f'Prediction format: {prediction}')"
   ],
   "id": "f0780d072fe7a8f9"
  }
 ],
 "metadata": {
  "kernelspec": {
   "display_name": "Python 3",
   "language": "python",
   "name": "python3"
  },
  "language_info": {
   "codemirror_mode": {
    "name": "ipython",
    "version": 2
   },
   "file_extension": ".py",
   "mimetype": "text/x-python",
   "name": "python",
   "nbconvert_exporter": "python",
   "pygments_lexer": "ipython2",
   "version": "2.7.6"
  }
 },
 "nbformat": 4,
 "nbformat_minor": 5
}
